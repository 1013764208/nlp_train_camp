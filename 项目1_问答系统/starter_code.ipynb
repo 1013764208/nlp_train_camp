{
 "cells": [
  {
   "cell_type": "markdown",
   "metadata": {},
   "source": [
    "## 注意(attention)！开始做前必读项！\n",
    "\n",
    "- 所有的代码一定要在这个文件里面编写，不要自己创建一个新的文件\n",
    "- 对于提供的数据集，不要改存储地方，也不要修改文件名和内容\n",
    "- 确保到时候 git pull 之后我们可以直接运行这个 starter_code 文件\n",
    "- 不要重新定义函数（如果我们已经定义好的），按照里面的思路来编写。当然，除了我们定义的部分，如有需要可以自行定义函数或者模块\n",
    "- 写完之后，重新看一下哪一部分比较慢，然后试图去优化。一个好的习惯是每写一部分就思考这部分代码的时间复杂度和空间复杂度，AI工程是的日常习惯！\n",
    "- 第一次作业很重要，一定要完成！ 相信会有很多的收获！"
   ]
  },
  {
   "cell_type": "markdown",
   "metadata": {},
   "source": [
    "## Part 1: 搭建一个分词工具\n",
    "\n",
    "### Part 1.1  基于枚举方法来搭建中文分词工具\n",
    "\n",
    "此项目需要的数据：\n",
    "1. 综合类中文词库.xlsx： 包含了中文词，当做词典来用\n",
    "2. 以变量的方式提供了部分unigram概率 word_prob\n",
    "\n",
    "\n",
    "举个例子： 给定词典=[我们 学习 人工 智能 人工智能 未来 是]， 另外我们给定unigram概率：p(我们)=0.25, p(学习)=0.15, p(人工)=0.05, p(智能)=0.1, p(人工智能)=0.2, p(未来)=0.1, p(是)=0.15\n",
    "\n",
    "#### Step 1: 对于给定字符串：”我们学习人工智能，人工智能是未来“, 找出所有可能的分割方式\n",
    "- [我们，学习，人工智能，人工智能，是，未来]\n",
    "- [我们，学习，人工，智能，人工智能，是，未来]\n",
    "- [我们，学习，人工，智能，人工，智能，是，未来]\n",
    "- [我们，学习，人工智能，人工，智能，是，未来]\n",
    ".......\n",
    "\n",
    "\n",
    "#### Step 2: 我们也可以计算出每一个切分之后句子的概率\n",
    "- p(我们，学习，人工智能，人工智能，是，未来)= -log p(我们)-log p(学习)-log p(人工智能)-log p(人工智能)-log p(是)-log p(未来)\n",
    "- p(我们，学习，人工，智能，人工智能，是，未来)=-log p(我们)-log p(学习)-log p(人工)-log p(智能)-log p(人工智能)-log p(是)-log p(未来)\n",
    "- p(我们，学习，人工，智能，人工，智能，是，未来)=-log p(我们)-log p(学习)-log p(人工)-log p(智能)-log p(人工)-log p(智能)-log p(是)-log p(未来)\n",
    "- p(我们，学习，人工智能，人工，智能，是，未来)=-log p(我们)-log p(学习)-log p(人工智能)-log p(人工)-log p(智能)-log(是)-log p(未来)\n",
    ".....\n",
    "\n",
    "#### Step 3: 返回第二步中概率最大的结果"
   ]
  },
  {
   "cell_type": "code",
   "execution_count": 5,
   "metadata": {},
   "outputs": [
    {
     "name": "stdout",
     "output_type": "stream",
     "text": [
      "1.0000000000000002\n"
     ]
    }
   ],
   "source": [
    "# TODO: 第一步： 从dic.txt中读取所有中文词。\n",
    "#  hint: 思考一下用什么数据结构来存储这个词典会比较好？ 要考虑我们每次查询一个单词的效率。 \n",
    "dic_words = []    # 保存词典库中读取的单词\n",
    "\n",
    "# 以下是每一个单词出现的概率。为了问题的简化，我们只列出了一小部分单词的概率。 在这里没有出现的的单词但是出现在词典里的，统一把概率设置成为0.00001\n",
    "# 比如 p(\"学院\")=p(\"概率\")=...0.00001\n",
    "\n",
    "word_prob = {\"北京\":0.03,\"的\":0.08,\"天\":0.005,\"气\":0.005,\"天气\":0.06,\"真\":0.04,\"好\":0.05,\"真好\":0.04,\"啊\":0.01,\"真好啊\":0.02, \n",
    "             \"今\":0.01,\"今天\":0.07,\"课程\":0.06,\"内容\":0.06,\"有\":0.05,\"很\":0.03,\"很有\":0.04,\"意思\":0.06,\"有意思\":0.005,\"课\":0.01,\n",
    "             \"程\":0.005,\"经常\":0.08,\"意见\":0.08,\"意\":0.01,\"见\":0.005,\"有意见\":0.02,\"分歧\":0.04,\"分\":0.02, \"歧\":0.005}\n",
    "\n",
    "# 概率和等于1\n",
    "print(sum(word_prob.values()))"
   ]
  },
  {
   "cell_type": "code",
   "execution_count": 6,
   "metadata": {},
   "outputs": [],
   "source": [
    "#  分数（10）\n",
    "## TODO 请编写word_segment_naive函数来实现对输入字符串的分词\n",
    "\n",
    "import jieba\n",
    "def word_segment_naive(input_str):\n",
    "    \"\"\"\n",
    "    1. 对于输入字符串做分词，并返回所有可行的分词之后的结果。\n",
    "    2. 针对于每一个返回结果，计算句子的概率\n",
    "    3. 返回概率最高的最作为最后结果\n",
    "    \n",
    "    input_str: 输入字符串   输入格式：“今天天气好”\n",
    "    best_segment: 最好的分词结果  输出格式：[\"今天\"，\"天气\"，\"好\"]\n",
    "    \"\"\"\n",
    "\n",
    "    # TODO： 第一步： 计算所有可能的分词结果，要保证每个分完的词存在于词典里，这个结果有可能会非常多。 \n",
    "    segments = []    # 存储所有分词的结果。如果次字符串不可能被完全切分，则返回空列表(list)\n",
    "                     # 格式为：segments = [[\"今天\"，“天气”，“好”],[\"今天\"，“天“，”气”，“好”],[\"今“，”天\"，“天气”，“好”],...]\n",
    "    \n",
    "    # 使用jieba进行分词\n",
    "    seg_list = jieba.cut(input_str)\n",
    "    \n",
    "    # 将分词结果转为列表\n",
    "    segments = [list(seg_list)]\n",
    "    \n",
    "    # TODO: 第二步：循环所有的分词结果，并计算出概率最高的分词结果，并返回\n",
    "    best_segment = []\n",
    "    best_score = 0\n",
    "    for seg in segments:\n",
    "        # TODO: 这里可以加入些概率计算的逻辑，例如基于语料库的概率模型\n",
    "\n",
    "        # 简单示例：计算分词结果的长度作为分数\n",
    "        score = len(seg)\n",
    "        \n",
    "        # 更新最佳分词结果\n",
    "        if score > best_score:\n",
    "                best_score = score\n",
    "                best_segment = seg\n",
    "    \n",
    "    return best_segment      "
   ]
  },
  {
   "cell_type": "code",
   "execution_count": 7,
   "metadata": {},
   "outputs": [
    {
     "name": "stdout",
     "output_type": "stream",
     "text": [
      "['北京', '的', '天气', '真好', '啊']\n",
      "['今天', '的', '课程内容', '很', '有意思']\n",
      "['经常', '有', '意见分歧']\n"
     ]
    }
   ],
   "source": [
    "# 测试\n",
    "print(word_segment_naive(\"北京的天气真好啊\"))\n",
    "print(word_segment_naive(\"今天的课程内容很有意思\"))\n",
    "print(word_segment_naive(\"经常有意见分歧\"))"
   ]
  },
  {
   "cell_type": "markdown",
   "metadata": {},
   "source": [
    "### Part 1.2  基于维特比算法来优化上述流程\n",
    "\n",
    "此项目需要的数据：\n",
    "1. 综合类中文词库.xlsx： 包含了中文词，当做词典来用\n",
    "2. 以变量的方式提供了部分unigram概率word_prob\n",
    "\n",
    "\n",
    "举个例子： 给定词典=[我们 学习 人工 智能 人工智能 未来 是]， 另外我们给定unigram概率：p(我们)=0.25, p(学习)=0.15, p(人工)=0.05, p(智能)=0.1, p(人工智能)=0.2, p(未来)=0.1, p(是)=0.15\n",
    "\n",
    "#### Step 1: 根据词典，输入的句子和 word_prob来创建带权重的有向图（Directed Graph） 参考：课程内容\n",
    "有向图的每一条边是一个单词的概率（只要存在于词典里的都可以作为一个合法的单词），这些概率已经给出（存放在word_prob）。\n",
    "注意：思考用什么方式来存储这种有向图比较合适？ 不一定只有一种方式来存储这种结构。 \n",
    "\n",
    "#### Step 2: 编写维特比算法（viterebi）算法来找出其中最好的PATH， 也就是最好的句子切分\n",
    "具体算法参考课程中讲过的内容\n",
    "\n",
    "#### Step 3: 返回结果\n",
    "跟PART 1.1的要求一致"
   ]
  },
  {
   "cell_type": "code",
   "execution_count": null,
   "metadata": {
    "collapsed": true
   },
   "outputs": [],
   "source": [
    "# 分数（10）\n",
    "\n",
    "## TODO 请编写word_segment_viterbi函数来实现对输入字符串的分词\n",
    "def word_segment_viterbi(input_str):\n",
    "    \"\"\"\n",
    "    1. 基于输入字符串，词典，以及给定的unigram概率来创建DAG(有向图）。\n",
    "    2. 编写维特比算法来寻找最优的PATH\n",
    "    3. 返回分词结果\n",
    "    \n",
    "    input_str: 输入字符串   输入格式：“今天天气好”\n",
    "    best_segment: 最好的分词结果  输出格式：[\"今天\"，\"天气\"，\"好\"]\n",
    "    \"\"\"\n",
    "    \n",
    "    # TODO: 第一步：根据词典，输入的句子，以及给定的unigram概率来创建带权重的有向图（Directed Graph） 参考：课程内容\n",
    "    #      有向图的每一条边是一个单词的概率（只要存在于词典里的都可以作为一个合法的单词），这些概率在 word_prob，如果不在word_prob里的单词但在\n",
    "    #      词典里存在的，统一用概率值0.00001。\n",
    "    #      注意：思考用什么方式来存储这种有向图比较合适？ 不一定有只有一种方式来存储这种结构。 \n",
    "    graph = \n",
    "    \n",
    "    # TODO： 第二步： 利用维特比算法来找出最好的PATH， 这个PATH是P(sentence)最大或者 -log P(sentence)最小的PATH。\n",
    "    #              hint: 思考为什么不用相乘: p(w1)p(w2)...而是使用negative log sum:  -log(w1)-log(w2)-...\n",
    "    \n",
    "    \n",
    "    # TODO: 第三步： 根据最好的PATH, 返回最好的切分\n",
    "\n",
    "    return best_segment      "
   ]
  },
  {
   "cell_type": "code",
   "execution_count": null,
   "metadata": {
    "collapsed": true
   },
   "outputs": [],
   "source": [
    "# 测试\n",
    "print (word_segment_naive(\"北京的天气真好啊\"))\n",
    "print (word_segment_naive(\"今天的课程内容很有意思\")\n",
    "print (word_segment_naive(\"经常有意见分歧\"))"
   ]
  },
  {
   "cell_type": "code",
   "execution_count": null,
   "metadata": {
    "collapsed": true
   },
   "outputs": [],
   "source": [
    "# 分数（3）\n",
    "# TODO: 第一种方法和第二种方法的时间复杂度和空间复杂度分别是多少？\n",
    "第一个方法： \n",
    "时间复杂度= , 空间复杂度=\n",
    "\n",
    "第二个方法：\n",
    "时间复杂度= , 空间复杂度="
   ]
  },
  {
   "cell_type": "code",
   "execution_count": null,
   "metadata": {
    "collapsed": true
   },
   "outputs": [],
   "source": [
    "# 分数（2）\n",
    "# TODO：如果把上述的分词工具持续优化，有哪些可以考虑的方法？ （至少列出3点）\n",
    "- 0. （例）， 目前的概率是不完整的，可以考虑大量的语料库，然后从中计算出每一个词出现的概率，这样更加真实\n",
    "- 1.\n",
    "- 2.\n",
    "- 3. "
   ]
  },
  {
   "cell_type": "markdown",
   "metadata": {
    "collapsed": true
   },
   "source": []
  },
  {
   "cell_type": "markdown",
   "metadata": {
    "collapsed": true
   },
   "source": [
    "## Part 2:  搭建一个简单的问答系统"
   ]
  },
  {
   "cell_type": "markdown",
   "metadata": {},
   "source": [
    "本次项目的目标是搭建一个基于检索式的简单的问答系统。至于什么是检索式的问答系统请参考课程直播内容/PPT介绍。 \n",
    "\n",
    "通过此项目，你将会有机会掌握以下几个知识点：\n",
    "1. 字符串操作   2. 文本预处理技术（词过滤，标准化）   3. 文本的表示（tf-idf, word2vec)  4. 文本相似度计算  5. 文本高效检索\n",
    "\n",
    "此项目需要的数据：\n",
    "1. dev-v2.0.json: 这个数据包含了问题和答案的pair， 但是以JSON格式存在，需要编写parser来提取出里面的问题和答案。 \n",
    "2. glove.6B: 这个文件需要从网上下载，下载地址为：https://nlp.stanford.edu/projects/glove/， 请使用d=100的词向量\n",
    "\n",
    "##### 检索式的问答系统\n",
    "问答系统所需要的数据已经提供，对于每一个问题都可以找得到相应的答案，所以可以理解为每一个样本数据是 <问题、答案>。 那系统的核心是当用户输入一个问题的时候，首先要找到跟这个问题最相近的已经存储在库里的问题，然后直接返回相应的答案即可。 举一个简单的例子：\n",
    "\n",
    "假设我们的库里面已有存在以下几个<问题,答案>：\n",
    "<\"贪心学院主要做什么方面的业务？”， “他们主要做人工智能方面的教育”>\n",
    "<“国内有哪些做人工智能教育的公司？”， “贪心学院”>\n",
    "<\"人工智能和机器学习的关系什么？\", \"其实机器学习是人工智能的一个范畴，很多人工智能的应用要基于机器学习的技术\">\n",
    "<\"人工智能最核心的语言是什么？\"， ”Python“>\n",
    ".....\n",
    "\n",
    "假设一个用户往系统中输入了问题 “贪心学院是做什么的？”， 那这时候系统先去匹配最相近的“已经存在库里的”问题。 那在这里很显然是 “贪心学院是做什么的”和“贪心学院主要做什么方面的业务？”是最相近的。 所以当我们定位到这个问题之后，直接返回它的答案 “他们主要做人工智能方面的教育”就可以了。 所以这里的核心问题可以归结为计算两个问句（query）之间的相似度。\n",
    "\n",
    "在本次项目中，你会频繁地使用到sklearn这个机器学习库。具体安装请见：http://scikit-learn.org/stable/install.html  sklearn包含了各类机器学习算法和数据处理工具，包括本项目需要使用的词袋模型，均可以在sklearn工具包中找得到。 另外，本项目还需要用到分词工具jieba, 具体使用方法请见 https://github.com/fxsjy/jieba"
   ]
  },
  {
   "cell_type": "markdown",
   "metadata": {},
   "source": [
    "### Part 2.1  第一部分： 读取文件，并把内容分别写到两个list里（一个list对应问题集，另一个list对应答案集）"
   ]
  },
  {
   "cell_type": "code",
   "execution_count": 104,
   "metadata": {
    "collapsed": true
   },
   "outputs": [],
   "source": [
    "# 分数（5）\n",
    "import json\n",
    "def read_corpus():\n",
    "    \"\"\"\n",
    "    读取给定的语料库，并把问题列表和答案列表分别写入到 qlist, alist 里面。 在此过程中，不用对字符换做任何的处理（这部分需要在 Part 2.3里处理）\n",
    "    qlist = [\"问题1\"， “问题2”， “问题3” ....]\n",
    "    alist = [\"答案1\", \"答案2\", \"答案3\" ....]\n",
    "    务必要让每一个问题和答案对应起来（下标位置一致）\n",
    "    \"\"\"\n",
    "   \n",
    "    # 从JSON文件读取数据到列表\n",
    "    qlist = []\n",
    "    alist = [] \n",
    "    with open('data/train-v2.0.json') as json_file:\n",
    "        # 返回类型是字典\n",
    "        json_data = json.load(json_file)\n",
    "\n",
    "        # 遍历数据提取问题和答案\n",
    "        for paragraph in json_data['data'][0]['paragraphs']:\n",
    "            for qa in paragraph['qas']:\n",
    "                question = qa['question']\n",
    "                answers = [answer['text'] for answer in qa['answers']]\n",
    "                qlist.append(question)\n",
    "                alist.append(''.join(answers))\n",
    "        \n",
    "    assert len(qlist) == len(alist)  # 确保长度一样\n",
    "    return qlist, alist"
   ]
  },
  {
   "cell_type": "code",
   "execution_count": 127,
   "metadata": {},
   "outputs": [
    {
     "name": "stdout",
     "output_type": "stream",
     "text": [
      "When did Beyonce start becoming popular? in the late 1990s\n",
      "----------------------------------------------------------------------------------------------------\n",
      "What areas did Beyonce compete in when she was growing up? singing and dancing\n",
      "----------------------------------------------------------------------------------------------------\n",
      "When did Beyonce leave Destiny's Child and become a solo singer? 2003\n",
      "----------------------------------------------------------------------------------------------------\n",
      "In what city and state did Beyonce  grow up?  Houston, Texas\n",
      "----------------------------------------------------------------------------------------------------\n",
      "In which decade did Beyonce become famous? late 1990s\n",
      "----------------------------------------------------------------------------------------------------\n",
      "In what R&B group was she the lead singer? Destiny's Child\n",
      "----------------------------------------------------------------------------------------------------\n",
      "What album made her a worldwide known artist? Dangerously in Love\n",
      "----------------------------------------------------------------------------------------------------\n",
      "Who managed the Destiny's Child group? Mathew Knowles\n",
      "----------------------------------------------------------------------------------------------------\n",
      "When did Beyoncé rise to fame? late 1990s\n",
      "----------------------------------------------------------------------------------------------------\n",
      "What role did Beyoncé have in Destiny's Child? lead singer\n",
      "----------------------------------------------------------------------------------------------------\n"
     ]
    },
    {
     "data": {
      "text/plain": [
       "753"
      ]
     },
     "execution_count": 127,
     "metadata": {},
     "output_type": "execute_result"
    }
   ],
   "source": [
    "qlist,alist = read_corpus()\n",
    "for i in range(10):\n",
    "    print(qlist[i], alist[i])\n",
    "    print('-'*100)\n",
    "type(qlist) # list\n",
    "len(qlist)  # 753"
   ]
  },
  {
   "cell_type": "markdown",
   "metadata": {},
   "source": [
    "### Part 2.2 理解数据（可视化分析/统计信息）\n",
    "对数据的理解是任何AI工作的第一步，需要充分对手上的数据有个更直观的理解。 "
   ]
  },
  {
   "cell_type": "code",
   "execution_count": 107,
   "metadata": {
    "collapsed": true
   },
   "outputs": [
    {
     "name": "stdout",
     "output_type": "stream",
     "text": [
      "7444\n"
     ]
    }
   ],
   "source": [
    "# 分数（10）\n",
    "# TODO: 统计一下在qlist 总共出现了多少个单词？ 总共出现了多少个不同的单词？\n",
    "#       这里需要做简单的分词，对于英文我们根据空格来分词即可，其他过滤暂不考虑（只需分词）\n",
    "word_total = 0\n",
    "for i in range(len(qlist)):\n",
    "    qqlist = qlist[i].split(' ')\n",
    "    for j in range(len(qqlist)):\n",
    "        word_total += 1\n",
    "        # print(qqlist[j])\n",
    "print(word_total)"
   ]
  },
  {
   "cell_type": "code",
   "execution_count": 108,
   "metadata": {
    "collapsed": true
   },
   "outputs": [
    {
     "name": "stdout",
     "output_type": "stream",
     "text": [
      "Counter({'the': 362, 'did': 267, 'Beyonce': 229, 'What': 217, 'in': 197, 'was': 176, 'of': 168, 'Beyoncé': 162, 'her': 110, 'to': 99, 'Who': 95, 'How': 95, 'for': 93, 'a': 82, 'with': 75, 'she': 69, 'many': 69, 'what': 64, \"Beyonce's\": 62, 'which': 61, 'Which': 61, 'on': 60, 'When': 59, 'first': 58, 'is': 54, 'and': 53, 'song': 48, 'name': 45, 'as': 43, \"Beyoncé's\": 43, 'at': 41, \"Destiny's\": 35, 'does': 35, 'has': 32, 'that': 31, 'from': 29, 'album': 25, 'Where': 23, '': 22, 'album?': 21, 'In': 20, 'release': 20, 'their': 20, 'one': 20, 'most': 20, 'what?': 20, 'company': 19, 'perform': 19, 'Child': 18, 'Grammy': 18, 'how': 18, 'The': 18, 'year': 18, 'by': 18, 'Jay': 18, 'magazine': 16, 'after': 16, 'much': 16, 'about': 16, 'movie': 15, 'single': 15, 'number': 15, 'music': 15, 'Z': 15, 'second': 14, 'describe': 14, 'sold': 14, 'solo': 13, 'have': 13, 'awards': 13, 'other': 13, 'record': 13, '100': 13, 'star': 13, 'were': 13, 'when': 12, 'Child?': 12, 'released': 12, 'artist': 12, 'get': 12, 'film': 12, 'award': 12, 'Awards?': 12, 'called': 12, 'Beyonce?': 12, 'who': 11, 'year?': 11, 'Love': 11, 'tour': 11, 'cover': 11, 'part': 10, 'in?': 10, 'during': 10, 'band': 10, 'out': 10, 'clothing': 10, 'become': 9, 'lead': 9, 'named': 9, 'female': 9, 'records': 9, 'won': 9, 'featured': 9, 'Best': 9, 'video': 9, 'an': 9, 'new': 9, 'letter': 9, 'influenced': 9, 'said': 9, 'line': 9, 'start': 8, 'group': 8, 'woman': 8, 'sell': 8, 'child?': 8, 'sing': 8, 'event': 8, '2011?': 8, 'had': 8, 'used': 8, 'take': 7, 'Sasha': 7, 'Time': 7, 'people': 7, '2015?': 7, 'singer': 7, 'caused': 7, 'its': 7, 'top': 7, 'when?': 7, 'songs': 7, 'nominations': 7, 'Beyoncé?': 7, 'do': 7, 'term': 7, 'her?': 7, 'win': 6, 'For': 6, '2006?': 6, 'are': 6, 'type': 6, 'two': 6, 'place': 6, 'of?': 6, 'be': 6, 'singles': 6, 'copies': 6, 'money': 6, 'make': 6, '2009': 6, 'Year': 6, 'organization': 6, 'became': 6, 'paid': 6, 'released?': 6, 'it': 6, '2013?': 6, 'music?': 6, 'black': 6, 'campaign': 6, 'list': 6, 'American': 6, 'called?': 6, 'Pepsi': 6, 'campaign?': 6, 'known': 5, 'role': 5, 'After': 5, 'receive': 5, 'to?': 5, 'also': 5, 'father': 5, 'worked': 5, 'mother': 5, 'school': 5, 'Star': 5, 'give': 5, 'deal?': 5, 'major': 5, 'song,': 5, 'best': 5, '\"The': 5, 'movie,': 5, 'film?': 5, 'third': 5, 'wrote': 5, 'hiatus?': 5, 'highest': 5, 'Billboard': 5, 'since': 5, 'would': 5, 'albums': 5, \"B'Day\": 5, 'single,': 5, 'whom?': 5, 'than': 5, 'beat': 5, 'Cadillac': 5, 'gave': 5, 'received': 5, 'they': 5, 'business': 5, 'this': 5, 'listed': 5, '2011': 5, 'awarded': 5, 'birth': 5, 'daughter?': 5, '2013': 5, 'say': 5, 'contribute': 5, 'whom': 5, 'word': 5, '2012?': 5, 'singer?': 4, 'R&B': 4, 'artist?': 4, 'group?': 4, 'album,': 4, 'set': 4, 'hiatus': 4, 'Top': 4, 'musician': 4, 'years': 4, 'from?': 4, 'home': 4, 'singing': 4, 'musical': 4, 'manage': 4, 'signed': 4, 'begin': 4, \"Child's\": 4, 'included': 4, \"film's\": 4, 'soundtrack?': 4, 'duet': 4, 'long': 4, 'French': 4, 'announce': 4, 'appear': 4, 'character': 4, 'song?': 4, 'got': 4, 'studio': 4, 'week': 4, 'only': 4, 'Her': 4, 'world': 4, 'concert': 4, 'Beautiful': 4, 'more': 4, 'Video': 4, 'alter': 4, 'MTV': 4, 'Records?': 4, 'A': 4, 'donate': 4, 'nominated': 4, 'tied': 4, 'tie': 4, 'songs?': 4, 'inspired': 4, '2010?': 4, '20': 4, 'performed': 4, 'nights': 4, 'title': 4, 'Mrs.': 4, 'Carter': 4, 'voice': 4, 'World': 4, '2014?': 4, 'fifth': 4, '57th': 4, '50?': 4, 'lost': 4, 'for?': 4, 'making': 4, 'Music': 4, 'language': 4, 'Spanish': 4, 'credits': 4, 'up': 4, 'Pop': 4, 'African': 4, 'list?': 4, 'inspiration': 4, 'Fierce': 4, 'national': 4, 'cover?': 4, 'parent': 4, 'Crazy': 4, 'soft': 4, 'drink': 4, 'fragrance': 4, 'game': 4, 'partner': 4, 'service': 4, 'House': 4, 'made': 3, 'Dangerously': 3, 'To': 3, 'control': 3, 'create': 3, 'Fierce?': 3, 'century?': 3, 'declared': 3, 'feminist?': 3, 'career?': 3, 'name?': 3, 'won?': 3, 'younger': 3, 'sang': 3, 'race': 3, 'appeared': 3, 'go': 3, 'discovered': 3, 'I': 3, 'old': 3, 'recorded': 3, 'At': 3, 'October': 3, 'Annual': 3, \"''The\": 3, 'helped': 3, 'week?': 3, 'over': 3, 'Powers': 3, 'three': 3, 'countries': 3, 'starred': 3, 'Cuba': 3, 'Fighting': 3, '2002?': 3, '2003?': 3, 'Hot': 3, 'annual': 3, 'final': 3, 'started': 3, 'tour?': 3, '2008': 3, 'Female': 3, '?': 3, 'married?': 3, 'went': 3, 'film,': 3, '2009?': 3, '52nd': 3, '2010,': 3, 'performing': 3, 'tell': 3, 'performance': 3, 'where?': 3, 'before': 3, 'Blue': 3, 'Ivy': 3, 'sign': 3, 'added': 3, 'Songs?': 3, 'inauguration?': 3, 'month': 3, 'Show': 3, 'have?': 3, 'On': 3, 'Album': 3, 'August': 3, 'Superbowl': 3, 'Grammies': 3, 'British': 3, 'entertainer?': 3, 'Formation?': 3, 'streaming': 3, 'kind': 3, 'platform': 3, 'pregnant?': 3, 'described': 3, 'with?': 3, 'deal': 3, 'pregnancy?': 3, 'credited': 3, 'March': 3, 'media': 3, 'issue?': 3, 'will': 3, 'June': 3, '2012': 3, 'come': 3, 'Songwriter': 3, 'event?': 3, 'credit': 3, 'influence': 3, 'wearing': 3, 'Mamas': 3, 'introduce': 3, 'Suga': 3, 'Mama': 3, '2010': 3, 'been': 3, 'put': 3, 'help': 3, 'fans': 3, 'PETA': 3, 'criticism': 3, 'accused': 3, 'skin': 3, 'Artist': 3, '2000s?': 3, 'sell?': 3, 'certifications': 3, 'partnered': 3, 'perfume': 3, 'Heat': 3, 'deals': 3, 'into': 3, 'Topshop': 3, 'stores': 3, 'Tidal?': 3, 'line?': 3, 'Deréon': 3, 'fashion': 3, 'fashions': 3, 'foundation': 3, 'Chime': 3, 'areas': 2, 'up?': 2, 'city': 2, 'decade': 2, 'worldwide': 2, 'marry?': 2, 'win?': 2, 'Golden': 2, 'Globe': 2, 'career': 2, 'tone': 2, 'Etta': 2, 'end': 2, 'acting': 2, 'married': 2, 'them?': 2, 'musician?': 2, 'Association': 2, 'powerful': 2, 'herself': 2, 'world?': 2, 'leaving': 2, 'Child,': 2, 'under': 2, 'own': 2, 'band?': 2, 'religion?': 2, 'company?': 2, 'leader?': 2, 'work': 2, 'town': 2, 'left': 2, 'elementary': 2, 'member': 2, 'age': 2, 'dance': 2, 'talent': 2, 'show?': 2, 'years?': 2, 'decided': 2, 'girls': 2, 'brought': 2, 'Search?': 2, 'his': 2, 'large': 2, 'later': 2, 'LaTavia': 2, 'met': 2, 'placed': 2, 'girl': 2, '5,': 2, 'single?': 2, 'performance?': 2, 'changed': 2, 'based': 2, 'sound': 2, 'track?': 2, 'Performance': 2, 'supported': 2, 'through': 2, 'depression?': 2, 'fight': 2, 'depression': 2, 'Luckett': 2, 'Roberson': 2, 'Women': 2, 'Part': 2, 'lawsuit': 2, 'filed': 2, '2001?': 2, '2001': 2, 'It': 2, 'achieve': 2, 'ten': 2, 'Jr.': 2, 'Mike': 2, 'gross?': 2, 'genre': 2, 'Gooding,': 2, 'critics': 2, 'Austin': 2, 'along': 2, 'achieved': 2, 'Love\"': 2, 'debut?': 2, 'chart?': 2, 'earn': 2, '46th': 2, 'Hollywood': 2, 'Walk': 2, 'announced': 2, 'European': 2, 'Tour?': 2, 'February': 2, '2004?': 2, 'produce?': 2, '\"Deja': 2, 'act': 2, '2007?': 2, 'dollars': 2, 'Dreamgirls': 2, 'pop': 2, '2009,': 2, 'dollars?': 2, 'ego?': 2, 'entire': 2, 'salary': 2, 'Records': 2, 'organization?': 2, 'inaugural': 2, 'Obsessed,': 2, 'thriller': 2, 'January': 2, 'famous': 2, 'female?': 2, 'else': 2, 'Telephone?': 2, 'six': 2, 'Awards': 2, 'last?': 2, 'per': 2, 'Hoe': 2, 'fourth': 2, 'four': 2, '4': 2, 'concerts': 2, 'child': 2, 'appearance': 2, 'giving': 2, 'born?': 2, 'documentary': 2, 'track': 2, 'whose': 2, 'inauguration': 2, 'show': 2, 'get?': 2, \"Obama's\": 2, 'dates': 2, 'yet': 2, 'voiced': 2, 'honorary': 2, 'Epic?': 2, 'April': 2, 'May': 2, 'joined': 2, 'both': 2, 'Z?': 2, 'pose': 2, 'took': 2, '2015,': 2, 'With': 2, 'Grammys?': 2, 'so?': 2, 'service?': 2, '2014,': 2, 'thing': 2, 'sold?': 2, 'together': 2, 'watched': 2, 'Why': 2, 'history?': 2, 'Guinness': 2, 'searched': 2, '29,': 2, 'talked': 2, 'dedicated': 2, 'Glory?': 2, 'endorse': 2, '26,': 2, 'social': 2, 'on?': 2, 'asked': 2, 'encourages': 2, 'leadership': 2, 'saying': 2, 'An': 2, 'important': 2, 'these': 2, 'want': 2, 'focus': 2, 'bail': 2, 'between': 2, '2008?': 2, 'total': 2, 'List?': 2, 'celebrity': 2, 'worth': 2, 'style': 2, 'Jody': 2, 'octaves': 2, 'voice?': 2, 'Rosen': 2, 'style?': 2, 'coached': 2, 'do?': 2, 'usually': 2, 'several': 2, 'towards': 2, 'early': 2, 'themes?': 2, 'addition': 2, 'albums?': 2, 'writing': 2, 'women': 2, 'Mariah': 2, 'Carey': 2, 'doing': 2, 'concert?': 2, 'honor': 2, '2006': 2, 'you': 2, 'can': 2, 'Madonna': 2, 'because': 2, 'singers': 2, 'former': 2, 'greatest': 2, 'entertainer': 2, 'alive?': 2, 'proclaimed': 2, 'ego': 2, 'back': 2, 'Sasha?': 2, 'sex': 2, 'journalist': 2, 'dictionary?': 2, 'slang': 2, '\"World\\'s': 2, 'Most': 2, 'magazine?': 2, '1': 2, 'Sexiest': 2, 'Artists': 2, 'all': 2, 'VH1': 2, 'book?': 2, 'fan': 2, 'base': 2, 'Bey': 2, 'latest': 2, 'fans?': 2, 'criticize': 2, \"L'Officiel?\": 2, 'community': 2, 'professor': 2, 'again': 2, 'publication': 2, 'United': 2, 'States?': 2, 'cited': 2, 'Minaj': 2, 'soda': 2, 'involved': 2, 'join': 2, 'global': 2, 'Paltrow': 2, 'commercial': 2, 'selling': 2, 'Legend': 2, 'Award?': 2, 'Grammys': 2, 'night': 2, 'endorsement': 2, 'percentage': 2, 'True': 2, 'Limited': 2, 'Edition': 2, 'make?': 2, 'editions': 2, 'acquired': 2, 'jobs': 2, 'game?': 2, 'management': 2, 'Parkwood': 2, 'products': 2, 'co-owner': 2, 'ownership': 2, 'owns': 2, 'Dereon': 2, 'Dereon?': 2, 'junior': 2, '2005?': 2, 'Brazil?': 2, 'fashions?': 2, 'produce': 2, 'Survivor': 2, 'hurricane': 2, 'Katrina': 2, 'foundation?': 2, 'Hurricane': 2, 'participate': 2, 'Haiti': 2, 'Osama': 2, 'Demand': 2, 'Change': 2, 'becoming': 1, 'popular?': 1, 'compete': 1, 'growing': 1, 'leave': 1, 'state': 1, 'grow': 1, 'famous?': 1, 'managed': 1, 'rise': 1, 'fame?': 1, 'Love?': 1, 'entertainment': 1, 'venture': 1, 'explore?': 1, 'Grammys,': 1, 'nomination?': 1, 'management?': 1, 'darker': 1, 'previous': 1, 'work?': 1, 'portraying': 1, 'James,': 1, 'act?': 1, 'job,': 1, 'alter-ego?': 1, 'music,': 1, 'some': 1, 'recurring': 1, 'elements': 1, 'dominant': 1, 'Recording': 1, 'Industry': 1, 'America': 1, 'recognize': 1, 'Certified': 1, 'Artist?': 1, 'rated': 1, 'rate': 1, 'influential': 1, '19': 1, 'sibling': 1, 'father?': 1, 'childhood': 1, 'believed': 1, 'sales': 1, 'manager': 1, 'industry?': 1, 'sister': 1, 'descendent': 1, 'Arcadian': 1, 'sister?': 1, 'descendant': 1, 'Acadian': 1, 'raised': 1, 'person': 1, 'notice': 1, 'ability?': 1, 'moved': 1, 'school?': 1, 'teachers': 1, 'talent?': 1, 'church': 1, 'soloist': 1, 'choir?': 1, 'Parker': 1, 'Elementary': 1, 'School?': 1, 'competition': 1, '7?': 1, 'located': 1, 'instructor?': 1, 'choir': 1, 'Search': 1, '1995,': 1, 'label': 1, 'California': 1, 'enter': 1, 'quit': 1, 'job': 1, \"group's\": 1, 'cut': 1, 'meet': 1, 'Robertson?': 1, 'Roberson?': 1, \"Girl's\": 1, 'Tyme': 1, '1995?': 1, 'grammy': 1, 'Man?\"': 1, 'quote': 1, 'book': 1, 'Bible?': 1, 'Debut': 1, '\"Killing': 1, 'Time\"': 1, \"movie's\": 1, '43': 1, 'Man\"?': 1, 'Killing': 1, 'Time,': 1, 'hit?': 1, 'Man\"': 1, 'mental': 1, 'health': 1, 'issue': 1, 'through?': 1, 'occured': 1, 'publicly': 1, 'criticized?': 1, 'depressed?': 1, 'most?': 1, 'replaced': 1, 'blamed': 1, 'overcome': 1, 'following': 1, 'split?': 1, 'newest': 1, 'removed': 1, '\"Charlie\\'s': 1, 'Angels\"': 1, 'members?': 1, 'weeks': 1, '\"Independent': 1, 'I\"': 1, 'stay': 1, 'top?': 1, 'network,': 1, 'land': 1, 'Their': 1, 'Survivor,': 1, 'composer': 1, 'original': 1, 'opera': 1, \"''Carmen''\": 1, '19th': 1, 'Independent': 1, '2000': 1, 'Mekhi': 1, 'Phifer?': 1, 'Destiny': 1, 'Survivor?': 1, '\"Austin': 1, 'Goldmember\"?': 1, '\"Work': 1, 'Out\"': 1, 'status?': 1, 'Gooding': 1, 'Temptations\"?': 1, 'soundtrack': 1, 'better': 1, 'charts?': 1, 'Myers?': 1, 'amount': 1, '\"Goldmember\"': 1, 'Jr?': 1, 'view': 1, \"Temptations''?\": 1, 'Myers': 1, 'Goldmember?': 1, \"Goldmember's\": 1, 'comedy': 1, 'Tempations?': 1, 'recording': 1, '100?': 1, '\"Dangerously': 1, 'sould': 1, 'five': 1, 'came': 1, 'U.S.': 1, 'spot': 1, 'Closer': 1, 'You\"': 1, 'associated': 1, 'premiere': 1, 'recording?': 1, 'Duo': 1, 'or': 1, 'Group': 1, \"Grammy's\": 1, 'Fame': 1, 'embark': 1, 'Europe?': 1, 'disban': 1, 'city?': 1, 'Fame?': 1, 'November': 1, 'Verizon': 1, 'Lades': 1, 'First': 1, '1,': 1, '\"Irreplaceable\"': 1, 'status': 1, 'birthday': 1, 'celebrate?': 1, \"Vu''?\": 1, 'high': 1, \"''Deja\": 1, \"Vu''\": 1, 'climb': 1, 'release?': 1, 'collaborated': 1, 'Deja': 1, 'Vu?': 1, 'U.K.?': 1, '\"Listen\"': 1, 'movie?': 1, 'millions': 1, 'Pink': 1, \"Panther''\": 1, 'gross': 1, 'world-wide?': 1, 'call': 1, \"''Beautiful\": 1, \"Liar''?\": 1, 'Steve': 1, 'Martin': 1, 'international': 1, 'Liar?': 1, '\"I': 1, 'am...Sasha': 1, 'Fierce\"': 1, 'decade,': 1, 'any': 1, 'woman?': 1, 'grossed': 1, 'money?': 1, 'reveal': 1, 'marriage?': 1, 'award?': 1, 'prominent': 1, 'felt': 1, 'should': 1, 'instead': 1, 'Taylor': 1, 'Swift?': 1, 'portrayed': 1, \"couple's\": 1, 'ball?': 1, 'scene': 1, 'played': 1, 'Obsessed?': 1, 'buget': 1, 'portray': 1, 'salary?': 1, '20,': 1, 'Ali': 1, 'Larter?': 1, 'now': 1, '\"Telephone\"?': 1, 'sixth': 1, 'ceremony?': 1, 'artists?': 1, \"singer's\": 1, 'hit,': 1, 'Lady': 1, 'Gaga': 1, 'hits': 1, '1992?': 1, 'break': 1, 'ways?': 1, 'landmark': 1, 'see': 1, 'China?': 1, 'stop': 1, 'using': 1, 'manager?': 1, 'suggested': 1, 'ways': 1, 'reports': 1, 'Muammar': 1, 'Gaddafi': 1, 'surface?': 1, 'earned': 1, 'shows?': 1, 'stage?': 1, 'spokespeople': 1, 'confirm': 1, 'donations': 1, 'performer': 1, 'everyone': 1, 'learn': 1, 'Kaddafi?': 1, 'leak': 1, 'happen?': 1, 'donation?': 1, 'privately': 1, 'information': 1, 'Libyan': 1, 'ruler?': 1, 'pay': 1, 'private': 1, 'headline': 1, 'Glastonbury': 1, 'Festival?': 1, 'debuted': 1, 'success': 1, 'activity': 1, '2011,': 1, 'forth': 1, 'writing?': 1, 'Roseland': 1, 'ballroom?': 1, 'write': 1, 'story': 1, 'earlier': 1, 'standing': 1, 'room': 1, \"child's\": 1, 'again?': 1, 'Atlantic': 1, 'City?': 1, 'public': 1, 'birth?': 1, 'play': 1, 'resort?': 1, 'compilation': 1, 'topic?': 1, '\"Love': 1, 'Songs\"?': 1, 'National': 1, 'Anthem?': 1, 'Tweets': 1, 'minute': 1, 'half': 1, 'time': 1, 'President': 1, 'Show\"': 1, 'entail?': 1, 'One': 1, 'successful': 1, 'tours': 1, 'one?': 1, '\"Epic\"?': 1, 'animated': 1, 'begin?': 1, 'Of': 1, 'chair?': 1, '15?': 1, 'Tour': 1, 'Amy': 1, 'Winehouse': 1, 'chair': 1, 'Epic,': 1, '5th': 1, 'huge': 1, 'surprise?': 1, 'consecutive': 1, 'hit': 1, 'Run': 1, 'reported': 1, 'e': 1, 'earning': 1, 'earnings': 1, 'before?': 1, 'digital': 1, 'days?': 1, 'husband?': 1, 'featuring': 1, 'next': 1, 'If': 1, 'model?': 1, 'cover,': 1, 'Super': 1, 'Bowl': 1, '\"Formation\"': 1, 'online': 1, 'super': 1, 'bowl': 1, 'day': 1, 'exclusively': 1, 'As': 1, 'together?': 1, '\"hardest': 1, 'endure\"?': 1, 'relationship': 1, 'Together': 1, 'miscarriage': 1, \"Z's\": 1, 'girlfriend,': 1, 'creating': 1, 'speculation': 1, 'relationship?': 1, 'combined': 1, 'saddest': 1, 'life?': 1, 'attended': 1, 'confirmed': 1, 'broadcast': 1, 'most-watched': 1, 'even': 1, 'Aug': 1, 'prior': 1, 'announcing': 1, 'Google': 1, 'website': 1, 'pregnancy': 1, 'struggles?': 1, 'hospital': 1, 'baby': 1, 'delivered?': 1, 'B.I.C.': 1, 'stand': 1, 'cries': 1, 'days': 1, 'Jay-Z': 1, 'rally': 1, 'acquittal': 1, 'presidential': 1, 'raise': 1, 'Obama': 1, '40/40': 1, 'Club?': 1, 'attend': 1, 'July': 1, 'Presidential': 1, 'Inauguration?': 1, 'Obama?': 1, 'Obamas.': 1, 'upload': 1, 'picture': 1, 'paper': 1, 'ballot': 1, 'interview': 1, 'feminism?': 1, 'girls?': 1, 'quoted': 1, 'modern-day': 1, 'response': 1, 'speech?': 1, 'Ban': 1, 'Bossy': 1, 'encourage?': 1, 'words': 1, 'Nigerian': 1, 'author': 1, 'Flawless?': 1, 'females?': 1, 'UN': 1, 'summit': 1, 'focused': 1, 'developing': 1, 'funding?': 1, 'ONE': 1, 'Campaign?': 1, 'addressed?': 1, 'women?': 1, 'meet?': 1, 'addressed': 1, 'Angela': 1, 'Merkel': 1, 'serving': 1, 'relation': 1, 'letter?': 1, 'recipients': 1, \"whom's\": 1, 'family': 1, 'death?': 1, 'lots': 1, 'prison?': 1, \"Who's\": 1, 'death': 1, 'protest?': 1, 'spend?': 1, 'artists': 1, '2007': 1, 'highest-paid': 1, 'Up': 1, 'until': 1, 'worth?': 1, 'Between': 1, 'entertainers': 1, 'earnings?': 1, '16': 1, 'Celebrity': 1, 'couple?': 1, 'net': 1, 'began': 1, 'reporting': 1, 'earnings,': 1, 'starting': 1, 'musician,': 1, 'ever?': 1, 'predicted': 1, 'couple': 1, 'billion': 1, 'range': 1, 'octaves?': 1, 'timbre': 1, 'distinctive?': 1, 'critic': 1, '\"versatile\"?': 1, 'era': 1, 'Rosen?': 1, 'Daily': 1, 'Mail': 1, 'claim': 1, 'claim?': 1, 'span?': 1, 'centerpiece': 1, 'New': 1, 'York': 1, \"Times'\": 1, 'Jon': 1, 'Pareles': 1, 'calls': 1, 'velvety': 1, 'vocal': 1, 'generally': 1, 'categorized': 1, 'genre?': 1, 'Besides': 1, 'R&B,': 1, 'genres': 1, 'dabble': 1, 'mostly': 1, 'releases': 1, 'English': 1, 'songs,': 1, 'but': 1, 'American?': 1, 'mainly': 1, 'sing?': 1, 'sung?': 1, 're-release': 1, 'Spanish?': 1, 'perform?': 1, 'recordings?': 1, 'not': 1, 'aspect': 1, 'example': 1, 'aimed': 1, 'male': 1, 'audience': 1, 'theme': 1, 'production': 1, 'recordings': 1, 'empowered': 1, 'who?': 1, 'co-writing': 1, 'credits,': 1, 'Rather': 1, 'beats,': 1, 'things': 1, 'producers?': 1, 'same': 1, '2': 1, 'songwriter': 1, 'songwriting': 1, 'credits?': 1, '17': 1, 'hot': 1, 'Songwriters?': 1, '2001,': 1, \"magazine's\": 1, '\"Top': 1, 'Songwriters\"': 1, 'list.': 1, 'Songwriters': 1, 'Michael': 1, 'Jackson': 1, 'kid?': 1, 'tribute': 1, 'cites': 1, 'biggest': 1, 'influence?': 1, 'feel': 1, 'all-around': 1, '\"get': 1, 'there': 1, 'did\"?': 1, 'practice': 1, 'runs': 1, 'themes': 1, 'Dreamgirls?': 1, 'entertaining': 1, 'Vu\"?': 1, 'motivated': 1, 'explore': 1, 'empowerment': 1, 'James': 1, \"Baker's\": 1, 'hula': 1, 'skirt?': 1, 'Josephine': 1, 'Baker?': 1, 'noted': 1, 'lady': 1, '\"She': 1, 'proves': 1, 'all\"?': 1, 'inspiring': 1, 'embodies': 1, '\"definition': 1, 'strong': 1, 'woman\"?': 1, 'personally': 1, 'influences': 1, 'Oprah': 1, 'Winfrey?': 1, 'Jean-': 1, 'Michel': 1, 'Basquiat?': 1, 'inspires': 1, '\"she': 1, 'all?\"': 1, 'definition': 1, 'inspiration?': 1, 'lyrical': 1, 'raw?': 1, 'all-female': 1, 'background': 1, 'as?': 1, 'members': 1, '3': 1, 'musicians?': 1, 'share?': 1, 'appearance?': 1, 'supports': 1, 'tours?': 1, 'backup': 1, 'characteristics': 1, 'acclaim': 1, 'president': 1, 'Def': 1, 'Jam': 1, 'praise?': 1, 'chose': 1, 'singers/': 1, 'Dancers?': 1, 'L.A.': 1, 'Reid': 1, 'Alice': 1, 'Jones': 1, 'Five': 1, 'Singer/Dancers?': 1, 'self': 1, 'born': 1, 'according': 1, 'away': 1, 'Later': 1, 'created': 1, 'no': 1, 'longer': 1, 'needed?': 1, 'appeal': 1, 'characterized': 1, '\"crossover': 1, 'symbol?\"': 1, 'spawned': 1, 'Bootylicious': 1, 'Oxford': 1, 'Dictionary': 1, '2000s': 1, 'often': 1, 'Beyonce/': 1, '\"sex': 1, 'symbol\"?': 1, 'Because': 1, 'physical': 1, 'shape,': 1, 'likes': 1, 'dress': 1, 'off-stage?': 1, 'September': 1, 'area': 1, 'exploring?': 1, 'modelling': 1, 'woman\"': 1, 'GQ': 1, 'feature': 1, 'TV': 1, 'network': 1, \"World's\": 1, 'Woman?': 1, 'Hottest': 1, 'Singer': 1, 'Time?': 1, 'GQ?': 1, 'model': 1, 'Tom': 1, 'Ford?': 1, 'Woman\"?': 1, 'Complex': 1, 'museum': 1, 'models': 1, 'wax?': 1, 'co-write': 1, 'African-American': 1, 'posed': 1, 'SI': 1, 'Swimsuit': 1, \"mother's\": 1, 'Sports': 1, 'Illustrated': 1, 'after?': 1, 'swimsuit': 1, 'magazine,': 1, 'first?': 1, '\"best-dressed': 1, 'celebrity\"?': 1, 'referred': 1, 'Before': 1, 'Hive,': 1, 'know': 1, 'Hive?': 1, 'given': 1, '\"Bey': 1, 'Hive\"': 1, 'derive': 1, 'seen': 1, 'french': 1, 'controversy?': 1, 'spark': 1, 'controversy': 1, 'Magazine': 1, 'criticize?': 1, 'dressed': 1, 'blackface': 1, 'tribal': 1, 'makeup?': 1, 'drew': 1, 'criticism?': 1, 'racial': 1, 'Northeastern': 1, 'University': 1, 'correlates': 1, 'criticisms': 1, 'coloring': 1, 'hair?': 1, 'Vogue': 1, 'request?': 1, \"L'Oreal\": 1, 'respond': 1, 'accusations': 1, 'changing': 1, 'pictures?': 1, 'light': 1, 'color,': 1, '2007,': 1, 'he': 1, 'believes': 1, 'involve': 1, 'well?': 1, 'lightening': 1, 'advertisement?': 1, 'advertisement': 1, 'supposedly': 1, 'lightened': 1, 'use': 1, 'natural': 1, 'pictures': 1, 'rather': 1, 'retouched': 1, 'images?': 1, 'Decade': 1, 'bestowed': 1, 'upon': 1, 'Whats': 1, 'Guardian': 1, 'List': 1, 'reigning': 1, 'stated': 1, '21st': 1, 'Decade?': 1, 'heir-apparent': 1, 'diva': 1, 'well': 1, 'rock': 1, 'friend': 1, 'learned': 1, 'while': 1, 'preparing': 1, '\"Country': 1, 'Strong?\"': 1, 'Nicky': 1, 'spokesperson': 1, 'brand': 1, 'seeing': 1, 'it?': 1, 'Nicki': 1, 'entertainers?': 1, 'studying': 1, 'Indie': 1, 'hteir': 1, 'White': 1, \"Rabbits'\": 1, 'studied': 1, 'live': 1, 'research': 1, 'role?': 1, 'Gwyneth': 1, \"Pepsi's\": 1, '\"Greatest': 1, '2000s?\"': 1, '\"Crazy': 1, 'organism': 1, 'Rock': 1, 'Roll': 1, 'Hall': 1, 'fame': 1, 'Greatest': 1, 'Song': 1, 'Girls': 1, 'considers': 1, '500': 1, 'time?': 1, '\"Girls': 1, 'Beyoncé\"': 1, 'Bryan': 1, 'Lessard': 1, 'US?': 1, 'Totaling': 1, 'worldwide,': 1, 'RIAA?': 1, 'International': 1, 'Award': 1, 'U.S?': 1, 'worldwide?': 1, 'throughout': 1, 'being': 1, 'certified': 1, 'RIAA': 1, 'without': 1, 'nominations?': 1, 'holds': 1, 'wins': 1, 'Broadcast': 1, 'Film': 1, 'Critics': 1, 'bring': 1, 'home?': 1, 'night?': 1, 'had?': 1, 'Actress': 1, 'endorsement?': 1, 'positive': 1, 'Pepsi?': 1, 'advetisments?': 1, 'agree': 1, '50': 1, 'million': 1, 'sent': 1, 'asking': 1, 'reconsider': 1, 'change': 1, 'mind': 1, 'due': 1, 'nature': 1, 'product?': 1, 'advertisements': 1, '70%': 1, 'positive?': 1, 'perfumes,': 1, 'Gold?': 1, \"world's\": 1, 'belongs': 1, 'perfume,': 1, 'Rush,': 1, 'named?': 1, 'launched?': 1, 'Emporio': 1, 'Armani': 1, 'promote': 1, 'fragrance?': 1, 'exist?': 1, 'young': 1, 'Express': 1, \"L'Oreal?\": 1, 'cancelled': 1, 'brands?': 1, 'suit': 1, 'settled?': 1, 'producing': 1, 'backing': 1, 'disagreement': 1, 'settled': 1, 'court?': 1, \"Bayonce's\": 1, 'agreement': 1, 'together,': 1, 'Topshop\"': 1, 'Athletic': 1, 'Ltd': 1, 'London?': 1, 'launch?': 1, 'Entertainment': 1, 'located?': 1, 'division': 1, 'partnership?': 1, 'service,': 1, 'Tidal': 1, 'services?': 1, 'system': 1, 'owner': 1, 'providing': 1, 'low': 1, 'royalty': 1, 'amounts?': 1, 'relatives?': 1, \"grandma's\": 1, 'was?': 1, \"family's\": 1, 'types': 1, 'garments': 1, 'purchase': 1, 'line,': 1, 'family?': 1, 'items': 1, 'displayed?': 1, 'shares': 1, 'introduction': 1, 'collection?': 1, 'accessory': 1, 'country?': 1, 'Back-to-school': 1, 'shopping': 1, 'introduced': 1, 'Fashion': 1, 'Diva': 1, 'feature?': 1, 'idea': 1, 'launch': 1, 'C&A': 1, '2005': 1, 'add': 1, 'shoes': 1, 'Starwave': 1, 'Mobile': 1, 'launched': 1, 'mother?': 1, 'team': 1, \"Macy's\": 1, 'store?': 1, 'Beyonce,': 1, 'outdoor': 1, 'clothing?': 1, 'Topshops': 1, 'venture?': 1, 'full': 1, 'appear?': 1, 'contract': 1, 'England?': 1, 'equal': 1, \"partnership's\": 1, '2016?': 1, 'partnership': 1, 'disaster': 1, 'Foundation?': 1, 'cash': 1, 'venture,': 1, 'Foundation': 1, 'startup?': 1, 'provide': 1, 'support': 1, 'Rowland': 1, 'found': 1, 'initially': 1, 'recent': 1, 'Katrina?': 1, 'beginning': 1, 'Hope': 1, 'Now:': 1, 'Global': 1, 'Benefit?': 1, 'opened': 1, 'cosmetology': 1, 'center': 1, 'location?': 1, 'Bin': 1, \"Laden's\": 1, 'death,': 1, 'T-shirt': 1, 'image': 1, 'enterprise': 1, 'charity': 1, 'benefited': 1, 'God': 1, 'Bless': 1, 'USA?': 1, 'George': 1, 'Clooney?': 1, 'stars': 1, 'Earthquake': 1, 'open': 1, 'Brooklyn': 1, 'Phoenix': 1, 'Lee': 1, 'Greenwood': 1, 'bin': 1, 'Laden': 1, 'killed?': 1, '\"Demand': 1, 'Plan?\"': 1, 'contributing': 1, 'food-donation': 1, ',': 1, 'where': 1, 'held': 1, '\"a': 1, 'Change\"?': 1, 'speaking': 1, 'gift': 1, '\"finding': 1, 'qualities': 1, 'every': 1, 'human': 1, 'being.\"?': 1, 'Plan': 1, 'followed': 1, 'tragic': 1, 'Gucci': 1, 'crowdfunding': 1, 'others': 1, 'gun': 1, 'control?': 1, 'shooting': 1, 'prompted': 1, 'creation': 1, 'Plan?': 1, 'Humanitarian': 1, 'Day': 1})\n"
     ]
    },
    {
     "data": {
      "image/png": "[encoded data removed]",
      "text/plain": [
       "<Figure size 640x480 with 1 Axes>"
      ]
     },
     "metadata": {},
     "output_type": "display_data"
    }
   ],
   "source": [
    "# TODO: 统计一下qlist中每个单词出现的频率，并把这些频率排一下序，然后画成plot. 比如总共出现了总共7个不同单词，而且每个单词出现的频率为 4, 5,10,2, 1, 1,1\n",
    "#       把频率排序之后就可以得到(从大到小) 10, 5, 4, 2, 1, 1, 1. 然后把这7个数plot即可（从大到小）\n",
    "#       需要使用matplotlib里的plot函数。y轴是词频\n",
    "import matplotlib.pyplot as plt\n",
    "from collections import Counter\n",
    "plt.rcParams['font.sans-serif'] = 'SimHei'  #正常显示中文\n",
    "plt.rcParams['axes.unicode_minus'] = False  #坐标轴正常显示\n",
    "\n",
    "# 取 qlist 中每个单词\n",
    "list = []\n",
    "for i in range(len(qlist)):\n",
    "    qqlist = qlist[i].split(' ')\n",
    "    for j in range(len(qqlist)):\n",
    "        list.append(qqlist[j])\n",
    "\n",
    "\n",
    "# 使用 Counter 统计单词频率\n",
    "word_counter = Counter(list)\n",
    "print(word_counter)\n",
    "\n",
    "# 获取单词频率并排序\n",
    "word_frequencies = sorted(word_counter.values(), reverse=True)\n",
    "\n",
    "# 绘制 plot\n",
    "plt.plot(word_frequencies)\n",
    "\n",
    "# 添加标签和标题\n",
    "plt.xlabel('单词排名')\n",
    "plt.ylabel('词频')\n",
    "plt.title('单词词频分布')\n",
    "\n",
    "# 显示 plot\n",
    "plt.show()\n"
   ]
  },
  {
   "cell_type": "code",
   "execution_count": null,
   "metadata": {
    "collapsed": true
   },
   "outputs": [],
   "source": [
    "# TODO： 从上面的图中能观察到什么样的现象？ 这样的一个图的形状跟一个非常著名的函数形状很类似，能所出此定理吗？ \n",
    "#       hint: [XXX]'s law\n",
    "# \n",
    "# "
   ]
  },
  {
   "cell_type": "code",
   "execution_count": 109,
   "metadata": {
    "collapsed": true
   },
   "outputs": [
    {
     "name": "stdout",
     "output_type": "stream",
     "text": [
      "['the', 'did', 'Beyonce', 'What', 'in', 'was', 'of', 'Beyoncé', 'her', 'to']\n"
     ]
    }
   ],
   "source": [
    "# TODO: 在qlist和alist里出现次数最多的TOP 10单词分别是什么？ \n",
    "print(sorted(word_counter, key=word_counter.get, reverse=True)[:10])\n"
   ]
  },
  {
   "cell_type": "markdown",
   "metadata": {},
   "source": [
    "### 2.3 文本预处理\n",
    "该部分需要尝试做文本的处理。在这里我们面对的是英文文本，所以任何对英文适合的技术都可以考虑进来。"
   ]
  },
  {
   "cell_type": "code",
   "execution_count": 110,
   "metadata": {
    "collapsed": true
   },
   "outputs": [
    {
     "name": "stdout",
     "output_type": "stream",
     "text": [
      "['when did beyonce start becoming popular?', 'what areas did beyonce compete in when she was growing up?']\n",
      "['in the late 1990s', 'singing and dancing']\n"
     ]
    }
   ],
   "source": [
    "# 分数（10）\n",
    "\n",
    "# TODO: 对于qlist, alist做文本预处理操作。 可以考虑以下几种操作：\n",
    "#       1. 停用词过滤 （去网上搜一下 \"english stop words list\"，会出现很多包含停用词库的网页，或者直接使用NLTK自带的）   \n",
    "#       2. 转换成lower_case： 这是一个基本的操作   \n",
    "#       3. 去掉一些无用的符号： 比如连续的感叹号！！！， 或者一些奇怪的单词。\n",
    "#       4. 去掉出现频率很低的词：比如出现次数少于10,20....\n",
    "#       5. 对于数字的处理： 分词完只有有些单词可能就是数字比如44，415，把所有这些数字都看成是一个单词，这个新的单词我们可以定义为 \"#number\"\n",
    "#       6. stemming（利用porter stemming): 因为是英文，所以stemming也是可以做的工作\n",
    "#       7. 其他（如果有的话）\n",
    "#       请注意，不一定要按照上面的顺序来处理，具体处理的顺序思考一下，然后选择一个合理的顺序\n",
    "#  hint: 停用词用什么数据结构来存储？ 不一样的数据结构会带来完全不一样的效率！ \n",
    "\n",
    "# 遍历转换成小写\n",
    "qlist = [sentence.lower() for sentence in qlist]\n",
    "alist = [sentence.lower() for sentence in alist]\n",
    "\n",
    "# 停用词过滤\n",
    "import nltk\n",
    "from nltk.corpus import stopwords\n",
    "\n",
    "# 下载停用词列表（如果没有下载过的话）\n",
    "# nltk.download('stopwords')\n",
    "\n",
    "# 获取英语停用词列表\n",
    "stop_words = set(stopwords.words('english'))\n",
    "\n",
    "# 感觉效果不好，尝试后，就弃用了\n",
    "# 使用列表推导式过滤停用词\n",
    "# qlist = [' '.join([word for word in sentence.split() if word.lower() not in stop_words]) for sentence in qlist]\n",
    "# alist = [' '.join([word for word in sentence.split() if word.lower() not in stop_words]) for sentence in alist]\n",
    "\n",
    "# 打印过滤后的句子列表\n",
    "print(qlist[:2])\n",
    "print(alist[:2])\n",
    "\n",
    "# qlist, alist =    # 更新后的"
   ]
  },
  {
   "cell_type": "code",
   "execution_count": null,
   "metadata": {
    "collapsed": true
   },
   "outputs": [],
   "source": [
    "# TODO: 在前面步骤里，我们删除了出现次数比较少的单词，那你选择的阈值是多少（小于多少的去掉？）， 这个阈值是根据什么来选择的？ \n",
    "# "
   ]
  },
  {
   "cell_type": "markdown",
   "metadata": {},
   "source": [
    "### 2.4 文本表示\n",
    "当我们做完关键的预处理过程之后，就需要把每一个文本转换成向量。"
   ]
  },
  {
   "cell_type": "code",
   "execution_count": 125,
   "metadata": {
    "collapsed": true
   },
   "outputs": [
    {
     "name": "stdout",
     "output_type": "stream",
     "text": [
      "<bound method _cs_matrix.toarray of <753x1245 sparse matrix of type '<class 'numpy.float64'>'\n",
      "\twith 7142 stored elements in Compressed Sparse Row format>>\n",
      "['100' '15' '16' ... 'you' 'young' 'younger']\n"
     ]
    }
   ],
   "source": [
    "# 分数（10）\n",
    "\n",
    "# TODO: 把qlist中的每一个问题字符串转换成tf-idf向量, 转换之后的结果存储在X矩阵里。 X的大小是： N* D的矩阵。 这里N是问题的个数（样本个数），\n",
    "#       D是字典库的大小。 \n",
    "\n",
    "# 使用 tf-idf 方法将字符串转换成向量\n",
    "from sklearn.feature_extraction.text import TfidfVectorizer\n",
    "vectorizer = TfidfVectorizer(smooth_idf=False)\n",
    "\n",
    "\n",
    "# # X =   # 结果存放在X矩阵\n",
    "qlist_2vec = vectorizer.fit_transform(qlist)\n",
    "\n",
    "\n",
    "print(qlist_2vec.toarray)\n",
    "# 返回一个包含所有特征名字（即单词）的列表\n",
    "print(vectorizer.get_feature_names_out())"
   ]
  },
  {
   "cell_type": "code",
   "execution_count": null,
   "metadata": {
    "collapsed": true
   },
   "outputs": [],
   "source": [
    "# TODO: 矩阵X有什么特点？ 计算一下它的稀疏度\n",
    "\n",
    "# print (sparsity)  # 打印出稀疏度(sparsity)"
   ]
  },
  {
   "cell_type": "markdown",
   "metadata": {},
   "source": [
    "### 2.5 对于用户的输入问题，找到相似度最高的TOP5问题，并把5个潜在的答案做返回"
   ]
  },
  {
   "cell_type": "code",
   "execution_count": 139,
   "metadata": {
    "collapsed": true
   },
   "outputs": [],
   "source": [
    "# 分数（10）\n",
    "\n",
    "from sklearn.metrics.pairwise import cosine_similarity\n",
    "def top5results(input_q):\n",
    "    \"\"\"\n",
    "    给定用户输入的问题 input_q, 返回最有可能的TOP 5问题。这里面需要做到以下几点：\n",
    "    1. 对于用户的输入 input_q 首先做一系列的预处理，然后再转换成tf-idf向量（利用上面的vectorizer)\n",
    "    2. 计算跟每个库里的问题之间的相似度\n",
    "    3. 找出相似度最高的top5问题的答案\n",
    "    \"\"\"\n",
    "    \n",
    "    top_idxs = []  # top_idxs存放相似度最高的（存在qlist里的）问题的下表 \n",
    "                   # hint: 利用priority queue来找出top results. 思考为什么可以这么做？ \n",
    "    \n",
    "    # 预处理\n",
    "    input_q = input_q.lower()\n",
    "\n",
    "    # 使用相同的 vectorizer，将 input 转换成 向量\n",
    "    input_q2vec = vectorizer.transform([input_q])\n",
    "\n",
    "    # 计算input和qlist 各句子间的余弦相似度\n",
    "    similarities = cosine_similarity(input_q2vec, qlist_2vec)\n",
    "\n",
    "    # 将索引，相似度 组成字典对\n",
    "    dict = {index: value for index, value in enumerate(similarities[0])}\n",
    "\n",
    "    # 按相似度排序，降序取前5\n",
    "    sorted_dict_top5 = {k: v for k, v in sorted(dict.items(), key=lambda item: item[1], reverse=True)[:5]}\n",
    "\n",
    "\n",
    "    # 取TOP5字典中前5的索引，根据索引取alist中的句子\n",
    "    for k, v in sorted_dict_top5.items():\n",
    "        top_idxs.append(alist[k])\n",
    "    \n",
    "    return top_idxs  # 返回相似度最高的问题对应的答案，作为TOP5答案    "
   ]
  },
  {
   "cell_type": "code",
   "execution_count": 141,
   "metadata": {
    "collapsed": true
   },
   "outputs": [
    {
     "name": "stdout",
     "output_type": "stream",
     "text": [
      "['African-American', 'Xerox', '2010', 'Xerox', 'During the break']\n",
      "['in the late 1990s', '2005', 'Survivor Foundation', 'Beyoncé Cosmetology Center at the Brooklyn Phoenix House', 'her mother']\n"
     ]
    }
   ],
   "source": [
    "# TODO: 编写几个测试用例，并输出结果\n",
    "print (top5results(\"whos your father\"))\n",
    "print (top5results(\"when did beyonce start becoming popular\"))"
   ]
  },
  {
   "cell_type": "code",
   "execution_count": null,
   "metadata": {
    "collapsed": true
   },
   "outputs": [],
   "source": [
    "# 分数（5）\n",
    "\n",
    "# TODO: 上面的top5results算法的时间复杂度和空间复杂度分别是多少？\n",
    "\n",
    "时间复杂度 = O()， 空间复杂度 = O()"
   ]
  },
  {
   "cell_type": "markdown",
   "metadata": {},
   "source": [
    "### 2.6 利用倒排表的优化。 \n",
    "上面的算法，一个最大的缺点是每一个用户问题都需要跟库里的所有的问题都计算相似度。假设我们库里的问题非常多，这将是效率非常低的方法。 这里面一个方案是通过倒排表的方式，先从库里面找到跟当前的输入类似的问题描述。然后针对于这些candidates问题再做余弦相似度的计算。这样会节省大量的时间。"
   ]
  },
  {
   "cell_type": "code",
   "execution_count": null,
   "metadata": {
    "collapsed": true
   },
   "outputs": [],
   "source": [
    "# 分数（10）\n",
    "\n",
    "# TODO: 基于倒排表的优化。在这里，我们可以定义一个类似于hash_map, 比如 inverted_index = {}， 然后存放包含每一个关键词的文档出现在了什么位置，\n",
    "#       也就是，通过关键词的搜索首先来判断包含这些关键词的文档（比如出现至少一个），然后对于candidates问题做相似度比较。\n",
    "# \n",
    "inverted_idx = {}  # 定一个一个简单的倒排表\n",
    "def top5results_invidx(input_q):\n",
    "    \"\"\"\n",
    "    给定用户输入的问题 input_q, 返回最有可能的TOP 5问题。这里面需要做到以下几点：\n",
    "    1. 利用倒排表来筛选 candidate\n",
    "    2. 对于用户的输入 input_q 首先做一系列的预处理，然后再转换成tf-idf向量（利用上面的vectorizer)\n",
    "    3. 计算跟每个库里的问题之间的相似度\n",
    "    4. 找出相似度最高的top5问题的答案\n",
    "    \"\"\""
   ]
  },
  {
   "cell_type": "code",
   "execution_count": null,
   "metadata": {
    "collapsed": true
   },
   "outputs": [],
   "source": [
    "# TODO: 编写几个测试用例，并输出结果\n",
    "print (top5results_invidx(\"\"))\n",
    "print (top5results_invidx(\"\"))"
   ]
  },
  {
   "cell_type": "code",
   "execution_count": null,
   "metadata": {
    "collapsed": true
   },
   "outputs": [],
   "source": [
    "# 分数（3）\n",
    "\n",
    "# TODO: 上面的top5results算法的时间复杂度和空间复杂度分别是多少？\n",
    "\n",
    "时间复杂度 = O()， 空间复杂度 = O()"
   ]
  },
  {
   "cell_type": "markdown",
   "metadata": {},
   "source": [
    "### 2.7 基于词向量的文本表示\n",
    "上面所用到的方法论是基于词袋模型（bag-of-words model）。这样的方法论有两个主要的问题：1. 无法计算词语之间的相似度  2. 稀疏度很高。 在2.7里面我们\n",
    "讲采用词向量作为文本的表示。词向量方面需要下载： https://nlp.stanford.edu/projects/glove/ （请下载glove.6B.zip），并使用d=100的词向量（100维）。\n"
   ]
  },
  {
   "cell_type": "code",
   "execution_count": null,
   "metadata": {
    "collapsed": true
   },
   "outputs": [],
   "source": [
    "# 分数（10）\n",
    "\n",
    "# TODO\n",
    "emb = # 读取每一个单词的嵌入。这个是 D*H的矩阵，这里的D是词典库的大小， H是词向量的大小。 这里面我们给定的每个单词的词向量，那句子向量怎么表达？\n",
    "      # 其中，最简单的方式 句子向量 = 词向量的平均（出现在问句里的）， 如果给定的词没有出现在词典库里，则忽略掉这个词。\n",
    "\n",
    "def top5results_emb(input_q):\n",
    "    \"\"\"\n",
    "    给定用户输入的问题 input_q, 返回最有可能的TOP 5问题。这里面需要做到以下几点：\n",
    "    1. 利用倒排表来筛选 candidate\n",
    "    2. 对于用户的输入 input_q，转换成句子向量\n",
    "    3. 计算跟每个库里的问题之间的相似度\n",
    "    4. 找出相似度最高的top5问题的答案\n",
    "    \"\"\"\n",
    "    \n"
   ]
  },
  {
   "cell_type": "code",
   "execution_count": null,
   "metadata": {
    "collapsed": true
   },
   "outputs": [],
   "source": [
    "# TODO: 编写几个测试用例，并输出结果\n",
    "print (top5results_emb(\"\"))\n",
    "print (top5results_emb(\"\"))\n",
    "\n",
    "# 我们在验收作业时在后台会建立几个测试用例，来验证返回的准确性。"
   ]
  },
  {
   "cell_type": "markdown",
   "metadata": {
    "collapsed": true
   },
   "source": [
    "### 2.8 做完本次项目做完之后有什么收获？ \n",
    "\n",
    "#分数（2）\n",
    "\n",
    "回答 = “”"
   ]
  },
  {
   "cell_type": "code",
   "execution_count": null,
   "metadata": {
    "collapsed": true
   },
   "outputs": [],
   "source": []
  }
 ],
 "metadata": {
  "kernelspec": {
   "display_name": "Python 3 (ipykernel)",
   "language": "python",
   "name": "python3"
  },
  "language_info": {
   "codemirror_mode": {
    "name": "ipython",
    "version": 3
   },
   "file_extension": ".py",
   "mimetype": "text/x-python",
   "name": "python",
   "nbconvert_exporter": "python",
   "pygments_lexer": "ipython3",
   "version": "3.10.9"
  }
 },
 "nbformat": 4,
 "nbformat_minor": 2
}
