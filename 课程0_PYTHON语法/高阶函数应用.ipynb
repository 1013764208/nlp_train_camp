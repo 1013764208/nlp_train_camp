{
 "cells": [
  {
   "cell_type": "markdown",
   "metadata": {},
   "source": [
    "### lambda 表达式\n",
    "即匿名函数  \n",
    "\n",
    "语法：lambda 参数列表：函数体"
   ]
  },
  {
   "cell_type": "code",
   "execution_count": 1,
   "metadata": {},
   "outputs": [
    {
     "name": "stdout",
     "output_type": "stream",
     "text": [
      "7\n"
     ]
    }
   ],
   "source": [
    "def add(x, y):\n",
    "    return x + y\n",
    "print(add(3, 4))"
   ]
  },
  {
   "cell_type": "code",
   "execution_count": 2,
   "metadata": {},
   "outputs": [
    {
     "data": {
      "text/plain": [
       "7"
      ]
     },
     "execution_count": 2,
     "metadata": {},
     "output_type": "execute_result"
    }
   ],
   "source": [
    "add_lambda = lambda x,y:x+y\n",
    "add_lambda(3, 4)"
   ]
  },
  {
   "cell_type": "markdown",
   "metadata": {},
   "source": [
    "### 三元运算符"
   ]
  },
  {
   "cell_type": "code",
   "execution_count": 3,
   "metadata": {},
   "outputs": [
    {
     "name": "stdout",
     "output_type": "stream",
     "text": [
      "1\n"
     ]
    }
   ],
   "source": [
    "condition = True\n",
    "print(1 if condition else 2)"
   ]
  },
  {
   "cell_type": "code",
   "execution_count": 4,
   "metadata": {},
   "outputs": [
    {
     "name": "stdout",
     "output_type": "stream",
     "text": [
      "2\n"
     ]
    }
   ],
   "source": [
    "condition = False\n",
    "print(1 if condition else 2)"
   ]
  },
  {
   "cell_type": "markdown",
   "metadata": {},
   "source": [
    "### map 函数\n",
    "语法：map(函数，参数)"
   ]
  },
  {
   "cell_type": "code",
   "execution_count": 1,
   "metadata": {},
   "outputs": [
    {
     "name": "stdout",
     "output_type": "stream",
     "text": [
      "[2, 4, 6, 8, 10]\n"
     ]
    }
   ],
   "source": [
    "list1 = [1,2,3,4,5]\n",
    "r = map(lambda x: x + x, list1)\n",
    "print(list(r))"
   ]
  },
  {
   "cell_type": "code",
   "execution_count": 2,
   "metadata": {},
   "outputs": [
    {
     "name": "stdout",
     "output_type": "stream",
     "text": [
      "[3, 7, 13]\n"
     ]
    }
   ],
   "source": [
    "m1 = map(lambda x, y : x*x+y, [1,2,3], [2,3,4])\n",
    "print(list(m1))"
   ]
  },
  {
   "cell_type": "markdown",
   "metadata": {},
   "source": [
    "### filter 过滤器\n",
    "语法：filter(函数，参数)"
   ]
  },
  {
   "cell_type": "code",
   "execution_count": 4,
   "metadata": {},
   "outputs": [
    {
     "data": {
      "text/plain": [
       "['hello', 'zhangbo']"
      ]
     },
     "execution_count": 4,
     "metadata": {},
     "output_type": "execute_result"
    }
   ],
   "source": [
    "def is_not_none(s):\n",
    "    return s and len(s.strip()) > 0\n",
    "\n",
    "list2 = [' ', '', 'hello', 'zhangbo']\n",
    "res = filter(is_not_none, list2)\n",
    "list(res)"
   ]
  },
  {
   "cell_type": "markdown",
   "metadata": {},
   "source": [
    "### reduce 函数\n",
    "下次运算使用上次运算的结果\n"
   ]
  },
  {
   "cell_type": "code",
   "execution_count": 6,
   "metadata": {},
   "outputs": [
    {
     "data": {
      "text/plain": [
       "15"
      ]
     },
     "execution_count": 6,
     "metadata": {},
     "output_type": "execute_result"
    }
   ],
   "source": [
    "from functools import reduce\n",
    "f = lambda x, y : x + y\n",
    "# 1+2=3，3+3=6，6+4=10，10+5=15\n",
    "res = reduce(f, [1,2,3,4,5])\n",
    "res"
   ]
  },
  {
   "cell_type": "markdown",
   "metadata": {},
   "source": [
    "### 列表推导式\n",
    "根据已有的列表推导出新的列表"
   ]
  },
  {
   "cell_type": "code",
   "execution_count": 11,
   "metadata": {},
   "outputs": [
    {
     "name": "stdout",
     "output_type": "stream",
     "text": [
      "[2, 4, 6, 8, 10]\n",
      "[2, 4, 6, 8, 10]\n",
      "[1, 8, 27, 64, 125]\n",
      "[16, 25]\n"
     ]
    }
   ],
   "source": [
    "list1 = [1,2,3,4,5]\n",
    "f = map(lambda x:x+x, list1)\n",
    "print(list(f))  # 这需要强转\n",
    "\n",
    "list2 = [i + i for i in list1]\n",
    "print(list2) \n",
    "\n",
    "list3 = [i**3 for i in list1]\n",
    "print(list3)\n",
    "\n",
    "# 有选择性的筛选\n",
    "list4 = [i*i for i in list1 if i > 3]\n",
    "print(list4)"
   ]
  },
  {
   "cell_type": "markdown",
   "metadata": {},
   "source": [
    "### 集合推导式\n",
    "就是将列表换成集合"
   ]
  },
  {
   "cell_type": "code",
   "execution_count": 12,
   "metadata": {},
   "outputs": [
    {
     "name": "stdout",
     "output_type": "stream",
     "text": [
      "[2, 4, 6, 8, 10]\n",
      "{2, 4, 6, 8, 10}\n",
      "{64, 1, 8, 27, 125}\n",
      "{16, 25}\n"
     ]
    }
   ],
   "source": [
    "list1 = {1,2,3,4,5}\n",
    "f = map(lambda x:x+x, list1)\n",
    "print(list(f))  # 这需要强转\n",
    "\n",
    "list2 = {i + i for i in list1}\n",
    "print(list2) \n",
    "\n",
    "list3 = {i**3 for i in list1}\n",
    "print(list3)\n",
    "\n",
    "# 有选择性的筛选\n",
    "list4 = {i*i for i in list1 if i > 3}\n",
    "print(list4)"
   ]
  },
  {
   "cell_type": "markdown",
   "metadata": {},
   "source": [
    "### 字典推导式"
   ]
  },
  {
   "cell_type": "code",
   "execution_count": 21,
   "metadata": {},
   "outputs": [
    {
     "name": "stdout",
     "output_type": "stream",
     "text": [
      "['zhangbo', 'lisi', 'wangwu']\n",
      "{20: 'zhangbo', 15: 'lisi', 31: 'wangwu'}\n",
      "{'zhangbo': 20}\n"
     ]
    }
   ],
   "source": [
    "s = {\n",
    "    \"zhangbo\":20,\n",
    "    \"lisi\":15,\n",
    "    \"wangwu\":31\n",
    "}\n",
    "\n",
    "# 拿出所有的K，并变成列表\n",
    "s_k = [key for key, value in s.items()]\n",
    "print(s_k)\n",
    "\n",
    "# K和V 颠倒\n",
    "s1 = {value: key for key, value in s.items()}\n",
    "print(s1)\n",
    "\n",
    "# 只拿出符合条件的值\n",
    "s2 = {key: value for key, value in s.items() if key=='zhangbo'}\n",
    "print(s2)"
   ]
  },
  {
   "cell_type": "markdown",
   "metadata": {},
   "source": [
    "### 闭合\n",
    "返回值是函数的函数"
   ]
  },
  {
   "cell_type": "code",
   "execution_count": 23,
   "metadata": {},
   "outputs": [
    {
     "name": "stdout",
     "output_type": "stream",
     "text": [
      "1700705094.4797628\n"
     ]
    }
   ],
   "source": [
    "# 调用后打印当前时间\n",
    "import time\n",
    "def runtime():\n",
    "    def now_time():\n",
    "        print(time.time())\n",
    "    return now_time\n",
    "\n",
    "f = runtime()\n",
    "f()  # 运算的是 now_time()"
   ]
  },
  {
   "cell_type": "code",
   "execution_count": 27,
   "metadata": {},
   "outputs": [
    {
     "name": "stdout",
     "output_type": "stream",
     "text": [
      "['6,7,8,9,10']\n"
     ]
    }
   ],
   "source": [
    "# 读取文件中带有某个关键字的行\n",
    "def make_filter(keep): # keep = 8\n",
    "    def the_filter(file_name):  # file_name = data.csv\n",
    "        file = open(file_name)  # 打开问题  \n",
    "        lines = file.readlines()  # 按行读取文件\n",
    "        file.close()\n",
    "        filter_doc = [i for i in lines if keep in i]\n",
    "        return filter_doc\n",
    "    return the_filter\n",
    "\n",
    "filter1 = make_filter(\"8\")  # 这一行调用 make_filter，接受 the_filter 函数作为返回值\n",
    "# 也就是说这里的 filter1 就等于 the_filter\n",
    "filter_result = filter1(\"data.csv\")\n",
    "print(filter_result)"
   ]
  },
  {
   "cell_type": "markdown",
   "metadata": {},
   "source": [
    "### 装饰器，语法糖，注解"
   ]
  },
  {
   "cell_type": "code",
   "execution_count": 29,
   "metadata": {},
   "outputs": [
    {
     "name": "stdout",
     "output_type": "stream",
     "text": [
      "1700706784.2318223\n",
      "学生跑\n"
     ]
    }
   ],
   "source": [
    "# 获取函数运行的时间\n",
    "import time\n",
    "\n",
    "def runtime(func):\n",
    "    def get_time():\n",
    "        print(time.time())\n",
    "        func()\n",
    "    return get_time\n",
    "\n",
    "# 这里实际上是 student_run 转到 runtime(func) 中\n",
    "@runtime\n",
    "def student_run():\n",
    "    print(\"学生跑\")\n",
    "\n",
    "student_run()"
   ]
  },
  {
   "cell_type": "code",
   "execution_count": 34,
   "metadata": {},
   "outputs": [
    {
     "name": "stdout",
     "output_type": "stream",
     "text": [
      "1700707202.0054934\n",
      "学生跑\n"
     ]
    }
   ],
   "source": [
    "# 如果函数有参数怎么解决\n",
    "# 有参数的装饰器（不定长）\n",
    "def runtime(func):\n",
    "    def get_time(*args):\n",
    "        print(time.time())\n",
    "        func(*args)\n",
    "    return get_time\n",
    "\n",
    "# 这里实际上是 student_run 转到 runtime(func) 中\n",
    "@runtime\n",
    "def student_run(i,j):\n",
    "    print(\"学生跑\")\n",
    "\n",
    "student_run(1,2)"
   ]
  },
  {
   "cell_type": "code",
   "execution_count": 39,
   "metadata": {},
   "outputs": [
    {
     "name": "stdout",
     "output_type": "stream",
     "text": [
      "1700707506.1386814\n",
      "学生跑\n",
      "1700707506.1405828\n",
      "学生跑\n",
      "1700707506.1405828\n",
      "学生跑\n"
     ]
    }
   ],
   "source": [
    "# 关键字参数\n",
    "def runtime(func):\n",
    "    def get_time(*args, **kwargs):\n",
    "        print(time.time())\n",
    "        func(*args, **kwargs)\n",
    "    return get_time\n",
    "\n",
    "# 这里实际上是 student_run 转到 runtime(func) 中\n",
    "@runtime\n",
    "def student_run(*args, **kwargs):\n",
    "    print(\"学生跑\")\n",
    "\n",
    "\n",
    "# 放参数，放关键字参数\n",
    "student_run(5, i=1, j=2)\n",
    "\n",
    "# 放不定长参数\n",
    "student_run(5,2)\n",
    "\n",
    "# 不放参数\n",
    "student_run()"
   ]
  }
 ],
 "metadata": {
  "kernelspec": {
   "display_name": "base",
   "language": "python",
   "name": "python3"
  },
  "language_info": {
   "codemirror_mode": {
    "name": "ipython",
    "version": 3
   },
   "file_extension": ".py",
   "mimetype": "text/x-python",
   "name": "python",
   "nbconvert_exporter": "python",
   "pygments_lexer": "ipython3",
   "version": "3.10.9"
  }
 },
 "nbformat": 4,
 "nbformat_minor": 2
}
