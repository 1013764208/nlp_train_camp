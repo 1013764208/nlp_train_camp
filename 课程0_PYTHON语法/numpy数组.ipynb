{
 "cells": [
  {
   "cell_type": "markdown",
   "metadata": {},
   "source": [
    "### Numpy 其实就是多维数组对象"
   ]
  },
  {
   "cell_type": "code",
   "execution_count": 2,
   "metadata": {},
   "outputs": [
    {
     "name": "stdout",
     "output_type": "stream",
     "text": [
      "[1, 2, 3, 4, 5]\n",
      "[1 2 3 4 5 1 2 3 4 5]\n"
     ]
    }
   ],
   "source": [
    "import numpy as np\n",
    "data = [1,2,3,4,5]\n",
    "n = np.array(data*2)\n",
    "print(data)\n",
    "print(n)"
   ]
  },
  {
   "cell_type": "code",
   "execution_count": 3,
   "metadata": {},
   "outputs": [
    {
     "data": {
      "text/plain": [
       "(10,)"
      ]
     },
     "execution_count": 3,
     "metadata": {},
     "output_type": "execute_result"
    }
   ],
   "source": [
    "# shape属性表示获得np数组的维度（长度）\n",
    "n.shape"
   ]
  },
  {
   "cell_type": "code",
   "execution_count": 4,
   "metadata": {},
   "outputs": [
    {
     "data": {
      "text/plain": [
       "dtype('int32')"
      ]
     },
     "execution_count": 4,
     "metadata": {},
     "output_type": "execute_result"
    }
   ],
   "source": [
    "# dtype属性表示获取数组的类型\n",
    "n.dtype"
   ]
  },
  {
   "cell_type": "markdown",
   "metadata": {},
   "source": [
    "### 嵌套序列：是由一组等长的列表组成的列表"
   ]
  },
  {
   "cell_type": "code",
   "execution_count": 12,
   "metadata": {},
   "outputs": [
    {
     "name": "stdout",
     "output_type": "stream",
     "text": [
      "[[1 2 3]\n",
      " [2 3 4]]\n",
      "2\n",
      "(2, 3)\n"
     ]
    }
   ],
   "source": [
    "arr = [[1,2,3],[2,3,4]]\n",
    "arr2 = np.array(arr)\n",
    "print(arr2)\n",
    "print(arr2.ndim) # ndim 代表外层维度 2\n",
    "print(arr2.shape) # 代表整个维度 （2，3）\n"
   ]
  },
  {
   "cell_type": "markdown",
   "metadata": {},
   "source": [
    "### 数据类型的判断"
   ]
  },
  {
   "cell_type": "code",
   "execution_count": 15,
   "metadata": {},
   "outputs": [
    {
     "name": "stdout",
     "output_type": "stream",
     "text": [
      "[['1' '2' '3' '4']\n",
      " ['5' '6' '7' '8']]\n",
      "<U11\n"
     ]
    }
   ],
   "source": [
    "# 不好的示范来进行判断\n",
    "arr = [['1','2',3,4],[5,6,7,8]]\n",
    "arr2 = np.array(arr)\n",
    "print(arr2)\n",
    "print(arr2.dtype) # unicode 类型"
   ]
  },
  {
   "cell_type": "code",
   "execution_count": 16,
   "metadata": {},
   "outputs": [
    {
     "name": "stdout",
     "output_type": "stream",
     "text": [
      "[[1 2 3]\n",
      " [2 3 4]]\n",
      "int32\n"
     ]
    }
   ],
   "source": [
    "arr = [[1,2,3],[2,3,4]]\n",
    "arr2 = np.array(arr)\n",
    "print(arr2)\n",
    "print(arr2.dtype)"
   ]
  },
  {
   "cell_type": "code",
   "execution_count": 17,
   "metadata": {},
   "outputs": [
    {
     "name": "stdout",
     "output_type": "stream",
     "text": [
      "[[1. 2. 3.]\n",
      " [2. 3. 4.]]\n",
      "float64\n"
     ]
    }
   ],
   "source": [
    "arr = [[1.0,2,3],[2,3,4]]\n",
    "arr2 = np.array(arr)\n",
    "print(arr2)\n",
    "print(arr2.dtype) # 当成员当中有一个为float时，那么numpy将会推断成float64类型"
   ]
  },
  {
   "cell_type": "markdown",
   "metadata": {},
   "source": [
    "### 指定长度数组的创建"
   ]
  },
  {
   "cell_type": "code",
   "execution_count": 18,
   "metadata": {},
   "outputs": [
    {
     "data": {
      "text/plain": [
       "array([0., 0., 0., 0., 0., 0., 0., 0., 0., 0.])"
      ]
     },
     "execution_count": 18,
     "metadata": {},
     "output_type": "execute_result"
    }
   ],
   "source": [
    "np.zeros(10)"
   ]
  },
  {
   "cell_type": "code",
   "execution_count": 20,
   "metadata": {},
   "outputs": [
    {
     "data": {
      "text/plain": [
       "array([[1., 1., 1.],\n",
       "       [1., 1., 1.]])"
      ]
     },
     "execution_count": 20,
     "metadata": {},
     "output_type": "execute_result"
    }
   ],
   "source": [
    "np.ones((2,3))"
   ]
  },
  {
   "cell_type": "code",
   "execution_count": 21,
   "metadata": {},
   "outputs": [
    {
     "data": {
      "text/plain": [
       "array([[[1.37470822e-311, 1.37470821e-311, 1.37470821e-311,\n",
       "         1.37470821e-311],\n",
       "        [1.37470821e-311, 1.37470821e-311, 1.37470822e-311,\n",
       "         1.37470798e-311],\n",
       "        [1.37470821e-311, 1.37470821e-311, 1.37470821e-311,\n",
       "         1.37470821e-311]],\n",
       "\n",
       "       [[1.37470821e-311, 1.37470821e-311, 1.37470821e-311,\n",
       "         1.37468617e-311],\n",
       "        [1.37470821e-311, 1.37472454e-311, 1.37471269e-311,\n",
       "         1.37470822e-311],\n",
       "        [1.37473326e-311, 1.37473326e-311, 1.37472460e-311,\n",
       "         1.37472416e-311]]])"
      ]
     },
     "execution_count": 21,
     "metadata": {},
     "output_type": "execute_result"
    }
   ],
   "source": [
    "np.empty((2,3,4))"
   ]
  },
  {
   "cell_type": "code",
   "execution_count": 23,
   "metadata": {},
   "outputs": [
    {
     "data": {
      "text/plain": [
       "array([0, 1, 2, 3, 4, 5, 6, 7, 8, 9])"
      ]
     },
     "execution_count": 23,
     "metadata": {},
     "output_type": "execute_result"
    }
   ],
   "source": [
    "np.arange(10) # arange是range函数的数组版本"
   ]
  },
  {
   "cell_type": "code",
   "execution_count": 24,
   "metadata": {},
   "outputs": [
    {
     "name": "stdout",
     "output_type": "stream",
     "text": [
      "[ 1.2  1.6  1.8 -2.3 -5.6]\n",
      "float64\n",
      "[ 1  1  1 -2 -5]\n"
     ]
    }
   ],
   "source": [
    "arr = np.array([1.2,1.6,1.8,-2.3,-5.6])\n",
    "print(arr)\n",
    "print(arr.dtype)\n",
    "print(arr.astype(np.int32))"
   ]
  },
  {
   "cell_type": "markdown",
   "metadata": {},
   "source": [
    "### 矢量化\n",
    "数组通常不用在编写循环的情况下就可以进行批量运算\n"
   ]
  },
  {
   "cell_type": "code",
   "execution_count": 25,
   "metadata": {},
   "outputs": [
    {
     "data": {
      "text/plain": [
       "array([ 6,  8, 10, 12])"
      ]
     },
     "execution_count": 25,
     "metadata": {},
     "output_type": "execute_result"
    }
   ],
   "source": [
    "arr1 = np.array([1,2,3,4])\n",
    "arr2 = np.array([5,6,7,8])\n",
    "arr1+arr2"
   ]
  },
  {
   "cell_type": "code",
   "execution_count": 26,
   "metadata": {},
   "outputs": [
    {
     "data": {
      "text/plain": [
       "array([[3, 5, 7, 9],\n",
       "       [3, 5, 7, 9],\n",
       "       [3, 5, 7, 9]])"
      ]
     },
     "execution_count": 26,
     "metadata": {},
     "output_type": "execute_result"
    }
   ],
   "source": [
    "arr1 = np.array([[1,2,3,4],[1,2,3,4],[1,2,3,4]])\n",
    "arr2 = np.array([[2,3,4,5],[2,3,4,5],[2,3,4,5]])\n",
    "arr1+arr2\n"
   ]
  },
  {
   "cell_type": "code",
   "execution_count": 27,
   "metadata": {},
   "outputs": [
    {
     "data": {
      "text/plain": [
       "array([[ 2,  6, 12, 20],\n",
       "       [ 2,  6, 12, 20],\n",
       "       [ 2,  6, 12, 20]])"
      ]
     },
     "execution_count": 27,
     "metadata": {},
     "output_type": "execute_result"
    }
   ],
   "source": [
    "arr1 = np.array([[1,2,3,4],[1,2,3,4],[1,2,3,4]])\n",
    "arr2 = np.array([[2,3,4,5],[2,3,4,5],[2,3,4,5]])\n",
    "arr1*arr2"
   ]
  },
  {
   "cell_type": "markdown",
   "metadata": {},
   "source": [
    "### 索引和切片"
   ]
  },
  {
   "cell_type": "code",
   "execution_count": 32,
   "metadata": {},
   "outputs": [
    {
     "name": "stdout",
     "output_type": "stream",
     "text": [
      "[0 1 2 3 4 5 6 7 8 9]\n",
      "1\n",
      "[4 5 6 7 8 9]\n",
      "[11 11 11 11  4  5  6  7  8  9]\n",
      "[11 11 11 11  4  5  6  7  8  9]\n"
     ]
    }
   ],
   "source": [
    "arr = np.arange(10)\n",
    "print(arr)\n",
    "print(arr[1])\n",
    "print(arr[4:])\n",
    "\n",
    "arr[0:4] = 11\n",
    "print(arr)\n",
    "\n",
    "arr_copy = arr.copy() # 如果不想修改原数组，可使用数组复制\n",
    "print(arr_copy)"
   ]
  },
  {
   "cell_type": "code",
   "execution_count": 34,
   "metadata": {},
   "outputs": [
    {
     "name": "stdout",
     "output_type": "stream",
     "text": [
      "2\n",
      "2\n"
     ]
    }
   ],
   "source": [
    "# 二维数组访问方式\n",
    "arr1 = np.array([[1,2,3],[2,3,4]])\n",
    "print(arr1[0][1])\n",
    "print(arr1[0,1]) # 两者等价"
   ]
  },
  {
   "cell_type": "code",
   "execution_count": 38,
   "metadata": {},
   "outputs": [
    {
     "name": "stdout",
     "output_type": "stream",
     "text": [
      "[ True False False]\n",
      "[False False False]\n",
      "[ True False  True]\n"
     ]
    }
   ],
   "source": [
    "names =np.array(['zhangbo','jack','robin'])\n",
    "print(names == 'zhangbo')\n",
    "print((names == 'zhangbo') & (names == 'robin')) # and 操作\n",
    "print((names == 'zhangbo') | (names == 'robin')) # or 操作"
   ]
  },
  {
   "cell_type": "markdown",
   "metadata": {},
   "source": [
    "### 花式索引\n",
    "利用整数数组进行索引"
   ]
  },
  {
   "cell_type": "code",
   "execution_count": 41,
   "metadata": {},
   "outputs": [
    {
     "name": "stdout",
     "output_type": "stream",
     "text": [
      "[[0. 0. 0. 0.]\n",
      " [1. 1. 1. 1.]\n",
      " [2. 2. 2. 2.]\n",
      " [3. 3. 3. 3.]\n",
      " [4. 4. 4. 4.]\n",
      " [5. 5. 5. 5.]\n",
      " [6. 6. 6. 6.]\n",
      " [7. 7. 7. 7.]]\n",
      "[[0. 0. 0. 0.]\n",
      " [1. 1. 1. 1.]\n",
      " [2. 2. 2. 2.]\n",
      " [3. 3. 3. 3.]\n",
      " [4. 4. 4. 4.]\n",
      " [5. 5. 5. 5.]\n",
      " [6. 6. 6. 6.]\n",
      " [7. 7. 7. 7.]]\n",
      "[[4. 4. 4. 4.]\n",
      " [3. 3. 3. 3.]\n",
      " [0. 0. 0. 0.]\n",
      " [6. 6. 6. 6.]]\n"
     ]
    }
   ],
   "source": [
    "arr = np.empty((8,4))\n",
    "print(arr)\n",
    "\n",
    "for i in range(8):\n",
    "    arr[i] = i\n",
    "print(arr)\n",
    "\n",
    "# 以特定的顺利来选取行中的子集，我们传入用于指定顺序的整数列表或数组\n",
    "# 这里可以用负数索引来从末尾获取\n",
    "print(arr[[4,3,0,6]])"
   ]
  },
  {
   "cell_type": "code",
   "execution_count": 51,
   "metadata": {},
   "outputs": [
    {
     "name": "stdout",
     "output_type": "stream",
     "text": [
      "[[ 0  1  2  3]\n",
      " [ 4  5  6  7]\n",
      " [ 8  9 10 11]\n",
      " [12 13 14 15]\n",
      " [16 17 18 19]\n",
      " [20 21 22 23]\n",
      " [24 25 26 27]\n",
      " [28 29 30 31]]\n",
      "[[ 4  5  6  7]\n",
      " [20 21 22 23]\n",
      " [28 29 30 31]\n",
      " [ 8  9 10 11]]\n",
      "[ 4 23 29 10]\n"
     ]
    }
   ],
   "source": [
    "arr = np.arange(32).reshape(8,4)\n",
    "print(arr)\n",
    "print(arr[[1,5,7,2]])\n",
    "print(arr[[1,5,7,2],[0,3,1,2]]) # 行，列 进行筛选，即4就是第2行第1列"
   ]
  },
  {
   "cell_type": "code",
   "execution_count": 53,
   "metadata": {},
   "outputs": [
    {
     "name": "stdout",
     "output_type": "stream",
     "text": [
      "[[ 4  5  6  7]\n",
      " [20 21 22 23]\n",
      " [28 29 30 31]\n",
      " [ 8  9 10 11]]\n",
      "[[ 4  7  5  6]\n",
      " [20 23 21 22]\n",
      " [28 31 29 30]\n",
      " [ 8 11  9 10]]\n"
     ]
    }
   ],
   "source": [
    "print(arr[[1,5,7,2]])\n",
    "# 在选择完1,5,7,2行数据后，行不变，列进行选择（调换列的顺序）\n",
    "print(arr[[1,5,7,2]][:,[0,3,1,2]])"
   ]
  },
  {
   "cell_type": "markdown",
   "metadata": {},
   "source": [
    "### 数组转置和轴对换\n",
    "转置就是重塑数组的特殊形式，常用方法T和 transpose"
   ]
  },
  {
   "cell_type": "code",
   "execution_count": 57,
   "metadata": {},
   "outputs": [
    {
     "name": "stdout",
     "output_type": "stream",
     "text": [
      "[[ 0  1  2  3  4]\n",
      " [ 5  6  7  8  9]\n",
      " [10 11 12 13 14]]\n",
      "[[ 0  5 10]\n",
      " [ 1  6 11]\n",
      " [ 2  7 12]\n",
      " [ 3  8 13]\n",
      " [ 4  9 14]]\n",
      "[[ 0  5 10]\n",
      " [ 1  6 11]\n",
      " [ 2  7 12]\n",
      " [ 3  8 13]\n",
      " [ 4  9 14]]\n"
     ]
    }
   ],
   "source": [
    "arr = np.arange(15).reshape(3,5)\n",
    "print(arr)\n",
    "print(arr.transpose())\n",
    "print(arr.T)"
   ]
  },
  {
   "cell_type": "code",
   "execution_count": 59,
   "metadata": {},
   "outputs": [
    {
     "name": "stdout",
     "output_type": "stream",
     "text": [
      "[[[ 0  1  2  3]\n",
      "  [ 4  5  6  7]\n",
      "  [ 8  9 10 11]]\n",
      "\n",
      " [[12 13 14 15]\n",
      "  [16 17 18 19]\n",
      "  [20 21 22 23]]]\n",
      "[[[ 0 12]\n",
      "  [ 1 13]\n",
      "  [ 2 14]\n",
      "  [ 3 15]]\n",
      "\n",
      " [[ 4 16]\n",
      "  [ 5 17]\n",
      "  [ 6 18]\n",
      "  [ 7 19]]\n",
      "\n",
      " [[ 8 20]\n",
      "  [ 9 21]\n",
      "  [10 22]\n",
      "  [11 23]]]\n"
     ]
    }
   ],
   "source": [
    "arr = np.arange(24).reshape(2,3,4) # 2个，三行，4列\n",
    "print(arr)\n",
    "print(arr.transpose(1,2,0)) # 轴的转换"
   ]
  },
  {
   "cell_type": "markdown",
   "metadata": {},
   "source": [
    "### 条件逻辑转数组 where\n",
    "np.where 等同于 x if condition else y 矢量化的  \n",
    "\n",
    "x if condition else y 表示当条件condition成立时，表达式的返回值是x，不成立时返回值是y  \n",
    "\n",
    "np.where 的写法，用于根据一个数组产生一个新的数组，与map，reduce类似"
   ]
  },
  {
   "cell_type": "code",
   "execution_count": 63,
   "metadata": {},
   "outputs": [
    {
     "name": "stdout",
     "output_type": "stream",
     "text": [
      "[1.1, 2.2, 1.3]\n",
      "[1.1, 2.2, 1.3]\n"
     ]
    }
   ],
   "source": [
    "x_arr = np.array([1.1,1.2,1.3])\n",
    "y_arr = np.array([2.1,2.2,2.3])\n",
    "condition = np.array([True,False,True])\n",
    "\n",
    "# zip 接受的参数就是可迭代的对象\n",
    "# zip()函数用于将可迭代的对象作为参数，将对象中对应的元素打包成一个个元组，然后返回有这些元组组成的列表\n",
    "result = [(x if c else y) for x,y,c in zip(x_arr,y_arr,condition)]\n",
    "print(result)\n",
    "\n",
    "res = np.where(condition, x_arr, y_arr)\n",
    "print(result)"
   ]
  },
  {
   "cell_type": "code",
   "execution_count": 66,
   "metadata": {},
   "outputs": [
    {
     "name": "stdout",
     "output_type": "stream",
     "text": [
      "[[ 2.24785031  0.05942703 -0.97685776  0.42742218]\n",
      " [ 0.88873141 -1.22824346 -1.04129253 -0.84818713]\n",
      " [-0.82383826  0.56150997  0.18941541  0.16228071]\n",
      " [ 1.18228839 -1.5911772  -0.45523496  0.38988135]]\n",
      "[[ 2  2 -2  2]\n",
      " [ 2 -2 -2 -2]\n",
      " [-2  2  2  2]\n",
      " [ 2 -2 -2  2]]\n",
      "[[ 2.          2.         -0.97685776  2.        ]\n",
      " [ 2.         -1.22824346 -1.04129253 -0.84818713]\n",
      " [-0.82383826  2.          2.          2.        ]\n",
      " [ 2.         -1.5911772  -0.45523496  2.        ]]\n"
     ]
    }
   ],
   "source": [
    "# 值替换\n",
    "arr = np.random.randn(4,4)\n",
    "print(arr)\n",
    "\n",
    "arr_1 = np.where(arr>0, 2 ,-2)\n",
    "print(arr_1)\n",
    "\n",
    "arr_2 = np.where(arr>0, 2 ,arr)\n",
    "print(arr_2)"
   ]
  },
  {
   "cell_type": "markdown",
   "metadata": {},
   "source": [
    "### 数学运算\n",
    "常用函数 sum mean std"
   ]
  },
  {
   "cell_type": "code",
   "execution_count": 73,
   "metadata": {},
   "outputs": [
    {
     "name": "stdout",
     "output_type": "stream",
     "text": [
      "[[ 0.30729383 -1.01889955  0.17548779 -0.31025131]\n",
      " [ 0.15991876  1.31897145  1.92344924  0.7515496 ]\n",
      " [-1.04221485  0.36542056 -1.21553461  0.64050433]\n",
      " [-0.05006754 -0.6125637  -0.44927731 -0.02388955]]\n",
      "0.057493571216505945\n",
      "0.057493571216505945\n",
      "0.9198971394640951\n",
      "0.8262932652052362\n"
     ]
    }
   ],
   "source": [
    "arr = np.random.randn(4,4) # randn 生成符合标准正态分布的随机数\n",
    "print(arr)\n",
    "print(arr.mean()) # 均值\n",
    "print(np.mean(arr))\n",
    "print(arr.sum()) # 和\n",
    "print(arr.std()) # 标准差"
   ]
  },
  {
   "cell_type": "code",
   "execution_count": 75,
   "metadata": {},
   "outputs": [
    {
     "name": "stdout",
     "output_type": "stream",
     "text": [
      "[-0.21159231  1.03847226 -0.31295614 -0.28394952]\n",
      "[-0.62506981  0.05292876  0.43412512  1.05791306]\n"
     ]
    }
   ],
   "source": [
    "# 在轴上进行运算\n",
    "# 计算轴1上的平均值\n",
    "print(arr.mean(axis=1))\n",
    "# 计算0轴上的和\n",
    "print(arr.sum(0))"
   ]
  },
  {
   "cell_type": "markdown",
   "metadata": {},
   "source": [
    "### 排序方法"
   ]
  },
  {
   "cell_type": "code",
   "execution_count": 80,
   "metadata": {},
   "outputs": [
    {
     "name": "stdout",
     "output_type": "stream",
     "text": [
      "[ 0.33094259 -0.40751597 -1.50313919 -0.0729221 ]\n",
      "[-1.50313919 -0.40751597 -0.0729221   0.33094259]\n"
     ]
    }
   ],
   "source": [
    "arr = np.random.randn(4)\n",
    "print(arr)\n",
    "arr.sort() # 从小到大排序\n",
    "print(arr)"
   ]
  },
  {
   "cell_type": "code",
   "execution_count": 81,
   "metadata": {},
   "outputs": [
    {
     "name": "stdout",
     "output_type": "stream",
     "text": [
      "[[-2.60591523  0.53345221 -0.38432862 -0.19111948]\n",
      " [ 0.99255264  1.83796089 -0.92757438  1.12701137]\n",
      " [-0.52732629  0.02744422  2.37113036  0.96989794]\n",
      " [ 2.31455464 -0.71345344 -0.73065654 -1.12411027]]\n",
      "[[-2.60591523 -0.38432862 -0.19111948  0.53345221]\n",
      " [-0.92757438  0.99255264  1.12701137  1.83796089]\n",
      " [-0.52732629  0.02744422  0.96989794  2.37113036]\n",
      " [-1.12411027 -0.73065654 -0.71345344  2.31455464]]\n"
     ]
    }
   ],
   "source": [
    "# 多维数组排序\n",
    "arr = np.random.randn(4,4)\n",
    "print(arr)\n",
    "arr.sort(1) # 按轴1排序\n",
    "print(arr)"
   ]
  }
 ],
 "metadata": {
  "kernelspec": {
   "display_name": "base",
   "language": "python",
   "name": "python3"
  },
  "language_info": {
   "codemirror_mode": {
    "name": "ipython",
    "version": 3
   },
   "file_extension": ".py",
   "mimetype": "text/x-python",
   "name": "python",
   "nbconvert_exporter": "python",
   "pygments_lexer": "ipython3",
   "version": "3.10.9"
  }
 },
 "nbformat": 4,
 "nbformat_minor": 2
}
